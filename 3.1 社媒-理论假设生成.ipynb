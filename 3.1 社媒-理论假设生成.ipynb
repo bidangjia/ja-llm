{
 "cells": [
  {
   "cell_type": "code",
   "execution_count": 1,
   "id": "be5e2992-099c-49d6-b46e-69a7a1035a64",
   "metadata": {},
   "outputs": [],
   "source": [
    "from openai import OpenAI\n",
    "import os\n",
    "import re"
   ]
  },
  {
   "cell_type": "code",
   "execution_count": 2,
   "id": "c5a43fbb-5144-470e-8eeb-33805a183777",
   "metadata": {},
   "outputs": [],
   "source": [
    "os.environ[\"DASHSCOPE_API_KEY\"] = \"sk-2ea9416b45e04af6b6aa72d3c2ade52f\""
   ]
  },
  {
   "cell_type": "code",
   "execution_count": 3,
   "id": "180fc411-30cd-48ae-87eb-d055fa2fdae2",
   "metadata": {},
   "outputs": [
    {
     "name": "stdout",
     "output_type": "stream",
     "text": [
      "子目录已存在: 生成结果/social_media\n"
     ]
    }
   ],
   "source": [
    "# 定义路径\n",
    "parent_dir = \"生成结果\"\n",
    "sub_dir = \"social_media\"\n",
    "output_dir = os.path.join(parent_dir, sub_dir)\n",
    "\n",
    "# 先确保父目录存在\n",
    "if not os.path.exists(parent_dir):\n",
    "    os.makedirs(parent_dir)\n",
    "    print(f\"已创建目录: {parent_dir}\")\n",
    "\n",
    "# 检查子目录是否存在，如果不存在则创建\n",
    "if not os.path.exists(output_dir):\n",
    "    os.makedirs(output_dir)\n",
    "    print(f\"已创建子目录: {output_dir}\")\n",
    "else:\n",
    "    print(f\"子目录已存在: {output_dir}\")\n",
    "\n",
    "prompt_file_path = 'Data/提示词.md'\n",
    "product_type_file_path = 'Data/产品类别.txt'\n",
    "output_file = os.path.join(output_dir, '理论假设.md')\n",
    "\n",
    "# 读取产品类别文件内容\n",
    "try:\n",
    "    with open(product_type_file_path, 'r', encoding='utf-8') as file:\n",
    "        product_type = file.read().strip()\n",
    "    print(f\"成功读取产品类别: {product_type}\")\n",
    "except FileNotFoundError:\n",
    "    print(f\"错误：找不到产品类别文件 {product_type_file_path}\")\n",
    "    raise\n",
    "except Exception as e:\n",
    "    print(f\"读取产品类别文件时出错: {e}\")\n",
    "    raise\n"
   ]
  },
  {
   "cell_type": "code",
   "execution_count": 4,
   "id": "4691c2bb-42ee-4170-a325-3fdddb2dcdef",
   "metadata": {},
   "outputs": [],
   "source": [
    "# 读取提示词模板文件内容\n",
    "try:\n",
    "    with open(prompt_file_path, 'r', encoding='utf-8') as file:\n",
    "        prompt_template = file.read().strip()\n",
    "    \n",
    "    # 替换模板中的占位符\n",
    "    prompt_content = prompt_template.replace(\"{product_type}\", product_type)\n",
    "    \n",
    "    # 添加额外的指示，避免重复\n",
    "    prompt_content += \"\\n\\n【重要提示】：请只生成一个表格，不要重复之前的内容。请提供一个全新的、完整的表格，而不是添加到之前的内容后面。\"\n",
    "    \n",
    "    print(\"成功处理提示词模板\")\n",
    "except FileNotFoundError:\n",
    "    print(f\"错误：找不到提示词模板文件 {prompt_file_path}\")\n",
    "    raise\n",
    "except Exception as e:\n",
    "    print(f\"处理提示词模板时出错: {e}\")\n",
    "    raise\n",
    "\n",
    "# 初始化OpenAI客户端\n",
    "try:\n",
    "    client = OpenAI(\n",
    "        api_key=os.getenv(\"DASHSCOPE_API_KEY\"),\n",
    "        base_url=\"https://dashscope.aliyuncs.com/compatible-mode/v1\"\n",
    "    )\n",
    "    print(\"成功初始化API客户端\")\n",
    "except Exception as e:\n",
    "    print(f\"初始化API客户端时出错: {e}\")\n",
    "    raise\n"
   ]
  },
  {
   "cell_type": "code",
   "execution_count": 5,
   "id": "62ea2e7f-52cf-43ff-bb31-60131713d005",
   "metadata": {},
   "outputs": [
    {
     "name": "stdout",
     "output_type": "stream",
     "text": [
      "\n",
      "====================正在处理====================\n",
      "\n",
      ".................................................................................................\n",
      "开始生成回复...\n",
      "\n",
      "\n",
      "====================处理完成====================\n",
      "结果已保存到 生成结果/social_media/理论假设.md\n"
     ]
    }
   ],
   "source": [
    "# 存储返回内容\n",
    "reasoning_content = \"\"\n",
    "answer_content = \"\"\n",
    "is_answering = False\n",
    "\n",
    "try:\n",
    "    # 创建聊天完成请求\n",
    "    completion = client.chat.completions.create(\n",
    "        model=\"qwq-plus\",\n",
    "        messages=[\n",
    "            {\"role\": \"user\", \"content\": prompt_content}\n",
    "        ],\n",
    "        stream=True\n",
    "    )\n",
    "    \n",
    "    print(\"\\n\" + \"=\" * 20 + \"正在处理\" + \"=\" * 20 + \"\\n\")\n",
    "    \n",
    "    for chunk in completion:\n",
    "        if not chunk.choices:\n",
    "            if hasattr(chunk, 'usage'):\n",
    "                print(\"\\nToken使用情况:\")\n",
    "                print(chunk.usage)\n",
    "        else:\n",
    "            delta = chunk.choices[0].delta\n",
    "            # 收集思考过程\n",
    "            if hasattr(delta, 'reasoning_content') and delta.reasoning_content is not None:\n",
    "                print(\".\", end='', flush=True)  # 显示处理进度\n",
    "                reasoning_content += delta.reasoning_content\n",
    "            else:\n",
    "                # 收集回复内容\n",
    "                if delta.content != \"\" and is_answering is False:\n",
    "                    print(\"\\n开始生成回复...\")\n",
    "                    is_answering = True\n",
    "                if hasattr(delta, 'content') and delta.content is not None:\n",
    "                    answer_content += delta.content\n",
    "    \n",
    "    # 处理重复表格问题\n",
    "    # 方法1：如果存在多个markdown表格，只保留最后一个\n",
    "    markdown_tables = re.findall(r'(\\|[\\s\\S]+?\\n\\n)', answer_content)\n",
    "    if len(markdown_tables) > 1:\n",
    "        print(f\"\\n检测到 {len(markdown_tables)} 个表格，只保留最后一个\")\n",
    "        answer_content = markdown_tables[-1]\n",
    "    \n",
    "    # 方法2：如果以上方法无效，尝试匹配完整的表格格式\n",
    "    if not markdown_tables:\n",
    "        markdown_tables = re.findall(r'(\\|\\s*序号\\s*\\|[\\s\\S]+?)\\n\\n(?=\\||\\Z)', answer_content)\n",
    "        if len(markdown_tables) > 1:\n",
    "            print(f\"\\n检测到 {len(markdown_tables)} 个表格，只保留最后一个\")\n",
    "            answer_content = markdown_tables[-1]\n",
    "    \n",
    "    # 将结果保存到output_dir/hypo.md\n",
    "    with open(output_file, 'w', encoding='utf-8') as file:\n",
    "        file.write(answer_content)\n",
    "    \n",
    "    print(\"\\n\\n\" + \"=\" * 20 + \"处理完成\" + \"=\" * 20)\n",
    "    print(f\"结果已保存到 {output_file}\")\n",
    "    \n",
    "except Exception as e:\n",
    "    print(f\"\\n处理过程中出错: {e}\")"
   ]
  },
  {
   "cell_type": "code",
   "execution_count": null,
   "id": "9cad07dd-9b11-4168-acd6-8c66d2f6c318",
   "metadata": {},
   "outputs": [],
   "source": []
  }
 ],
 "metadata": {
  "kernelspec": {
   "display_name": "Lynx",
   "language": "python",
   "name": "lynx"
  },
  "language_info": {
   "codemirror_mode": {
    "name": "ipython",
    "version": 3
   },
   "file_extension": ".py",
   "mimetype": "text/x-python",
   "name": "python",
   "nbconvert_exporter": "python",
   "pygments_lexer": "ipython3",
   "version": "3.10.16"
  }
 },
 "nbformat": 4,
 "nbformat_minor": 5
}
