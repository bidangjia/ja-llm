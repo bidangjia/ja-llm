{
 "cells": [
  {
   "cell_type": "markdown",
   "metadata": {},
   "source": [
    "### 文件读取"
   ]
  },
  {
   "cell_type": "code",
   "execution_count": 1,
   "metadata": {
    "execution": {
     "iopub.execute_input": "2025-04-18T05:11:04.107373Z",
     "iopub.status.busy": "2025-04-18T05:11:04.107373Z",
     "iopub.status.idle": "2025-04-18T05:11:04.866273Z",
     "shell.execute_reply": "2025-04-18T05:11:04.866273Z"
    }
   },
   "outputs": [
    {
     "name": "stdout",
     "output_type": "stream",
     "text": [
      "当前操作系统: Windows\n",
      "当前字体设置: ['SimHei', 'Microsoft YaHei', 'SimSun']\n",
      "子目录已存在: 生成结果\\last_quadrant\n"
     ]
    }
   ],
   "source": [
    "import pandas as pd\n",
    "import numpy as np\n",
    "import matplotlib.pyplot as plt\n",
    "import re\n",
    "from pathlib import Path\n",
    "import matplotlib.font_manager as fm\n",
    "import platform\n",
    "import os\n",
    "\n",
    "# 根据操作系统设置合适的中文字体\n",
    "system = platform.system()\n",
    "if system == 'Darwin':  # macOS\n",
    "    plt.rcParams['font.sans-serif'] = ['Arial Unicode MS', 'Heiti TC', 'PingFang HK', 'Apple Color Emoji']\n",
    "elif system == 'Windows':\n",
    "    plt.rcParams['font.sans-serif'] = ['SimHei', 'Microsoft YaHei', 'SimSun']\n",
    "else:  # Linux或其他\n",
    "    plt.rcParams['font.sans-serif'] = ['DejaVu Sans', 'WenQuanYi Micro Hei', 'WenQuanYi Zen Hei']\n",
    "\n",
    "# 正常显示负号\n",
    "plt.rcParams['axes.unicode_minus'] = False\n",
    "\n",
    "print(f\"当前操作系统: {system}\")\n",
    "print(f\"当前字体设置: {plt.rcParams['font.sans-serif']}\")\n",
    "\n",
    "# 定义路径\n",
    "parent_dir = \"生成结果\"\n",
    "sub_dir = \"last_quadrant\"\n",
    "sub_dir_path = os.path.join(parent_dir, sub_dir)\n",
    "\n",
    "# 先确保父目录存在\n",
    "if not os.path.exists(parent_dir):\n",
    "    os.makedirs(parent_dir)\n",
    "    print(f\"已创建目录: {parent_dir}\")\n",
    "\n",
    "# 检查子目录是否存在，如果不存在则创建\n",
    "if not os.path.exists(sub_dir_path):\n",
    "    os.makedirs(sub_dir_path)\n",
    "    print(f\"已创建子目录: {sub_dir_path}\")\n",
    "else:\n",
    "    print(f\"子目录已存在: {sub_dir_path}\")"
   ]
  },
  {
   "cell_type": "code",
   "execution_count": 2,
   "metadata": {
    "execution": {
     "iopub.execute_input": "2025-04-18T05:11:04.882407Z",
     "iopub.status.busy": "2025-04-18T05:11:04.882407Z",
     "iopub.status.idle": "2025-04-18T05:11:04.912144Z",
     "shell.execute_reply": "2025-04-18T05:11:04.912144Z"
    }
   },
   "outputs": [
    {
     "name": "stdout",
     "output_type": "stream",
     "text": [
      "找到VOC数据文件: 生成结果/needs_analysis\\致欧-2025-01-10之后VOC数据_用户需求象限分析_完整列表.txt\n",
      "找到社交媒体模型文件: 生成结果/social_media/View-归一化的模型结果.txt\n",
      "成功读取VOC数据，共80条记录\n",
      "成功读取社交媒体模型结果，共2条记录\n",
      "\n",
      "VOC数据概览:\n",
      "                     象限  排名                                 需求名称   重要性分数  \\\n",
      "0  第一象限：核心需求区（高重要性，高频率）   1               wish it had more tiers  559.45   \n",
      "1  第一象限：核心需求区（高重要性，高频率）   2        could use wheels for mobility  321.49   \n",
      "2  第一象限：核心需求区（高重要性，高频率）   3  would be better if it didn't wobble  242.54   \n",
      "3  第一象限：核心需求区（高重要性，高频率）   4             needs more storage space   69.79   \n",
      "4  第一象限：核心需求区（高重要性，高频率）   5        could use a minimalist design    1.87   \n",
      "\n",
      "       提及频率  文本质量  最终得分  综合得分  \n",
      "0  0.189937   0.8  0.90  1.00  \n",
      "1  0.109297   0.8  0.69  0.57  \n",
      "2  0.082639   0.8  0.62  0.43  \n",
      "3  0.025325   1.0  0.56  0.13  \n",
      "4  0.000666   1.0  0.50  0.00  \n",
      "\n",
      "VOC数据统计:\n",
      "象限\n",
      "第一象限：核心需求区（高重要性，高频率）     20\n",
      "第三象限：潜在需求区（低重要性，低频率）     20\n",
      "第二象限：基础需求区（低重要性，高频率）     20\n",
      "第四象限：差异化需求区（高重要性，低频率）    20\n",
      "dtype: int64\n",
      "\n",
      "社交媒体模型结果概览:\n",
      "                     变量  变量类型      系数      p值  归一化系数  归一化百分比 显著性\n",
      "0              层高可调节性表达   自变量  0.4666  0.0037    1.0   100.0   是\n",
      "1  author_followers_cnt  控制变量  0.0000  0.0000    0.0     0.0   是\n",
      "\n",
      "显著变量:\n",
      "                     变量  变量类型      系数      p值  归一化系数  归一化百分比 显著性\n",
      "0              层高可调节性表达   自变量  0.4666  0.0037    1.0   100.0   是\n",
      "1  author_followers_cnt  控制变量  0.0000  0.0000    0.0     0.0   是\n"
     ]
    }
   ],
   "source": [
    "\n",
    "import os\n",
    "import glob\n",
    "\n",
    "matches_analysis_dir = \"生成结果/needs_analysis/\"\n",
    "voc_data_files = glob.glob(os.path.join(matches_analysis_dir, \"*_用户需求象限分析_完整列表.txt\"))\n",
    "if voc_data_files:\n",
    "    voc_data_path = voc_data_files[0]  # 使用找到的第一个匹配文件\n",
    "else:\n",
    "    voc_data_path = None\n",
    "    print(\"未找到匹配的VOC数据文件\")\n",
    "\n",
    "# 自动搜索\"生成结果/social_media/\"文件夹下的文件\n",
    "social_media_dir = \"生成结果/social_media/\"\n",
    "social_media_files = glob.glob(os.path.join(social_media_dir, \"View-归一化的模型结果.txt\"))\n",
    "if social_media_files:\n",
    "    social_media_model_path = social_media_files[0]\n",
    "else:\n",
    "    social_media_model_path = None\n",
    "    print(\"未找到匹配的社交媒体模型结果文件\")\n",
    "\n",
    "# 打印找到的文件路径\n",
    "if voc_data_path:\n",
    "    print(f\"找到VOC数据文件: {voc_data_path}\")\n",
    "if social_media_model_path:\n",
    "    print(f\"找到社交媒体模型文件: {social_media_model_path}\")\n",
    "\n",
    "\n",
    "# 读取VOC数据（TXT格式）\n",
    "def read_voc_data(file_path):\n",
    "    try:\n",
    "        with open(file_path, 'r', encoding='utf-8') as file:\n",
    "            content = file.read()\n",
    "\n",
    "        # 检查文件是否表明没有匹配数据\n",
    "        if \"没有找到任何需求-场景匹配数据\" in content or \"没有找到任何\" in content:\n",
    "            print(f\"文件 {file_path} 中没有找到任何匹配数据，将返回空DataFrame\")\n",
    "            # 创建只有列名的空DataFrame\n",
    "            empty_df = pd.DataFrame(columns=[\n",
    "                '象限', '排名', '需求名称', '重要性分数', '提及频率', \n",
    "                '文本质量', '最终得分', '综合得分'\n",
    "            ])\n",
    "            return empty_df\n",
    "\n",
    "        # 提取各象限的数据\n",
    "        quadrants = []\n",
    "\n",
    "        # 匹配四个象限区域\n",
    "        quadrant_pattern = r'## (第[一二三四]象限[^#]*?)(?=\\n\\n## |$)'\n",
    "        quadrant_matches = re.findall(quadrant_pattern, content, re.DOTALL)\n",
    "\n",
    "        for quadrant_content in quadrant_matches:\n",
    "            # 提取象限标题\n",
    "            title_match = re.match(r'(第[一二三四]象限[^\\n]*)', quadrant_content)\n",
    "            quadrant_title = title_match.group(1) if title_match else \"未知象限\"\n",
    "\n",
    "            # 修正：匹配需求项目的正则表达式，适应两行格式和括号内的综合得分\n",
    "            defect_pattern = r'(\\d+)\\. (.*?)\\n\\s+重要性分数: ([\\d\\.]+), 提及频率: ([\\d\\.]+), 文本质量: ([\\d\\.]+)\\n\\s+最终得分: ([\\d\\.]+) \\(综合得分: ([\\d\\.]+)\\)'\n",
    "            defect_matches = re.findall(defect_pattern, quadrant_content, re.DOTALL)\n",
    "\n",
    "            for defect in defect_matches:\n",
    "                index, name, importance, frequency, quality, final_score, total_score = defect\n",
    "                quadrants.append({\n",
    "                    '象限': quadrant_title,\n",
    "                    '排名': int(index),\n",
    "                    '需求名称': name.strip(),\n",
    "                    '重要性分数': float(importance),\n",
    "                    '提及频率': float(frequency),\n",
    "                    '文本质量': float(quality),\n",
    "                    '最终得分': float(final_score),\n",
    "                    '综合得分': float(total_score)\n",
    "                })\n",
    "\n",
    "        # 创建DataFrame\n",
    "        voc_data = pd.DataFrame(quadrants)\n",
    "        \n",
    "        # 如果没有提取到数据，返回空DataFrame\n",
    "        if len(voc_data) == 0:\n",
    "            print(f\"文件 {file_path} 中没有提取到需求数据，将返回空DataFrame\")\n",
    "            # 创建只有列名的空DataFrame\n",
    "            empty_df = pd.DataFrame(columns=[\n",
    "                '象限', '排名', '需求名称', '重要性分数', '提及频率', \n",
    "                '文本质量', '最终得分', '综合得分'\n",
    "            ])\n",
    "            return empty_df\n",
    "            \n",
    "        print(f\"成功读取VOC数据，共{len(voc_data)}条记录\")\n",
    "        return voc_data\n",
    "    except Exception as e:\n",
    "        print(f\"读取VOC数据失败: {e}\")\n",
    "        # 创建只有列名的空DataFrame\n",
    "        empty_df = pd.DataFrame(columns=[\n",
    "            '象限', '排名', '需求名称', '重要性分数', '提及频率', \n",
    "            '文本质量', '最终得分', '综合得分'\n",
    "        ])\n",
    "        return empty_df\n",
    "\n",
    "# 读取社交媒体模型结果\n",
    "def read_social_media_model(file_path):\n",
    "    try:\n",
    "        with open(file_path, 'r', encoding='utf-8') as file:\n",
    "            content = file.read()\n",
    "        \n",
    "        # 使用正则表达式提取表格内容\n",
    "        pattern = r'\\|\\s*(.*?)\\s*\\|\\s*(.*?)\\s*\\|\\s*(.*?)\\s*\\|\\s*(.*?)\\s*\\|\\s*(.*?)\\s*\\|\\s*(.*?)\\s*\\|\\s*(.*?)\\s*\\|'\n",
    "        matches = re.findall(pattern, content)\n",
    "        \n",
    "        # 创建DataFrame\n",
    "        if matches and len(matches) > 2:  # 确保有足够的行（标题行、分隔行、数据行）\n",
    "            # 跳过标题行和分隔行\n",
    "            data = []\n",
    "            for match in matches:\n",
    "                # 跳过表头分隔行 (|---|---|)\n",
    "                if not all('-' in item for item in match):\n",
    "                    data.append(match)\n",
    "            \n",
    "            # 去掉表头\n",
    "            if len(data) > 1:\n",
    "                columns = ['变量', '变量类型', '系数', 'p值', '归一化系数', '归一化百分比', '显著性']\n",
    "                df = pd.DataFrame(data[1:], columns=columns)  # 跳过第一行作为标题\n",
    "                \n",
    "                # 处理数值列\n",
    "                df['系数'] = df['系数'].astype(float)\n",
    "                df['p值'] = df['p值'].astype(float)\n",
    "                df['归一化系数'] = df['归一化系数'].astype(float)\n",
    "                df['归一化百分比'] = df['归一化百分比'].str.rstrip('%').astype(float)\n",
    "                \n",
    "                print(f\"成功读取社交媒体模型结果，共{len(df)}条记录\")\n",
    "                return df\n",
    "        \n",
    "        print(\"未能从文件中提取有效内容\")\n",
    "        return None\n",
    "    except Exception as e:\n",
    "        print(f\"读取社交媒体模型结果失败: {e}\")\n",
    "        return None\n",
    "\n",
    "# 读取数据\n",
    "voc_data = read_voc_data(voc_data_path)\n",
    "social_media_model = read_social_media_model(social_media_model_path)\n",
    "\n",
    "# 显示数据概览\n",
    "if voc_data is not None:\n",
    "    print(\"\\nVOC数据概览:\")\n",
    "    print(voc_data.head())\n",
    "    print(\"\\nVOC数据统计:\")\n",
    "    print(voc_data.groupby('象限').size())\n",
    "    \n",
    "if social_media_model is not None:\n",
    "    print(\"\\n社交媒体模型结果概览:\")\n",
    "    print(social_media_model.head())\n",
    "    print(\"\\n显著变量:\")\n",
    "    print(social_media_model[social_media_model['显著性'] == '是'])"
   ]
  },
  {
   "cell_type": "markdown",
   "metadata": {},
   "source": [
    "### 建立痛点与社媒变量的关联关系"
   ]
  },
  {
   "cell_type": "code",
   "execution_count": 3,
   "metadata": {
    "execution": {
     "iopub.execute_input": "2025-04-18T05:11:04.912144Z",
     "iopub.status.busy": "2025-04-18T05:11:04.912144Z",
     "iopub.status.idle": "2025-04-18T05:11:05.412248Z",
     "shell.execute_reply": "2025-04-18T05:11:05.412248Z"
    }
   },
   "outputs": [],
   "source": [
    "import os\n",
    "import json\n",
    "import pandas as pd\n",
    "from openai import OpenAI\n",
    "from time import sleep\n",
    "\n",
    "os.environ[\"DASHSCOPE_API_KEY\"] = \"sk-2ea9416b45e04af6b6aa72d3c2ade52f\""
   ]
  },
  {
   "cell_type": "code",
   "execution_count": 4,
   "metadata": {
    "execution": {
     "iopub.execute_input": "2025-04-18T05:11:05.412248Z",
     "iopub.status.busy": "2025-04-18T05:11:05.412248Z",
     "iopub.status.idle": "2025-04-18T05:11:05.427713Z",
     "shell.execute_reply": "2025-04-18T05:11:05.427713Z"
    }
   },
   "outputs": [],
   "source": [
    "def configure_openai_client():\n",
    "    \"\"\"配置OpenAI客户端连接到阿里云百炼\"\"\"\n",
    "    import os\n",
    "    from openai import OpenAI\n",
    "    \n",
    "    api_key = os.getenv(\"DASHSCOPE_API_KEY\")\n",
    "    if not api_key:\n",
    "        # 如果环境变量中没有设置API密钥，请在此处设置\n",
    "        api_key = \"YOUR_API_KEY\"  # 请替换为您的实际API密钥\n",
    "        print(\"警告: 使用代码中的API密钥，建议通过环境变量设置\")\n",
    "    \n",
    "    client = OpenAI(\n",
    "        api_key=api_key,\n",
    "        base_url=\"https://dashscope.aliyuncs.com/compatible-mode/v1\",\n",
    "    )\n",
    "    return client\n",
    "\n",
    "# 使用qwen-max模型映射痛点到社媒变量\n",
    "def map_needs_to_variables(need, social_media_variables, client):\n",
    "    \"\"\"\n",
    "    使用qwen-max模型将痛点映射到相关的社交媒体变量\n",
    "    \n",
    "    Args:\n",
    "        need: 未被满足的需求描述\n",
    "        social_media_variables: 可用的社交媒体变量列表\n",
    "        client: OpenAI客户端\n",
    "    \n",
    "    Returns:\n",
    "        dict: 变量与关联强度的映射\n",
    "    \"\"\"\n",
    "    import json\n",
    "    from time import sleep\n",
    "    \n",
    "    # 构建提示词\n",
    "    prompt = f\"\"\"\n",
    "    你是一个产品分析专家。请分析以下消费者对产品未被满足的需求，与消费者行为变量之间的关联关系:\n",
    "    \n",
    "    未被满足的需求: \"{need}\"\n",
    "    \n",
    "    可选的消费者行为变量:\n",
    "    {\", \".join(social_media_variables)}\n",
    "    \n",
    "    请分析这个产品缺陷/痛点与哪些消费者行为变量最相关，并给出关联强度(0-1之间的浮点数)。\n",
    "    只返回JSON格式，结构如下:\n",
    "    {{\n",
    "        \"变量名1\": 关联强度,\n",
    "        \"变量名2\": 关联强度,\n",
    "        ...\n",
    "    }}\n",
    "    \n",
    "    请只选择最相关的2-4个变量，并按关联强度从高到低排序。\n",
    "    \"\"\"\n",
    "    \n",
    "    # 设置最大重试次数\n",
    "    max_retries = 3\n",
    "    retry_count = 0\n",
    "    retry_delay = 2  # 初始重试延迟(秒)\n",
    "    \n",
    "    while retry_count < max_retries:\n",
    "        try:\n",
    "            # 调用qwen-max模型\n",
    "            completion = client.chat.completions.create(\n",
    "                model=\"qwen-max\",  # 使用qwen-max模型\n",
    "                messages=[\n",
    "                    {'role': 'system', 'content': 'You are a helpful assistant specializing in product analysis.'},\n",
    "                    {'role': 'user', 'content': prompt}\n",
    "                ],\n",
    "                response_format={\"type\": \"json_object\"}\n",
    "            )\n",
    "            \n",
    "            # 解析返回结果\n",
    "            response_content = completion.choices[0].message.content\n",
    "            result = json.loads(response_content)\n",
    "            return result\n",
    "        \n",
    "        except json.JSONDecodeError as e:\n",
    "            # JSON解析错误，可能是返回格式不正确\n",
    "            print(f\"JSON解析错误 (尝试 {retry_count+1}/{max_retries}): {e}\")\n",
    "            print(f\"API返回内容: {response_content if 'response_content' in locals() else 'N/A'}\")\n",
    "            \n",
    "            retry_count += 1\n",
    "            if retry_count < max_retries:\n",
    "                print(f\"等待 {retry_delay} 秒后重试...\")\n",
    "                sleep(retry_delay)\n",
    "                retry_delay *= 2  # 指数退避策略\n",
    "            \n",
    "        except Exception as e:\n",
    "            # 其他API错误\n",
    "            print(f\"API调用错误 (尝试 {retry_count+1}/{max_retries}): {e}\")\n",
    "            \n",
    "            retry_count += 1\n",
    "            if retry_count < max_retries:\n",
    "                print(f\"等待 {retry_delay} 秒后重试...\")\n",
    "                sleep(retry_delay)\n",
    "                retry_delay *= 2  # 指数退避策略\n",
    "    \n",
    "    # 所有重试都失败，返回默认值\n",
    "    print(f\"错误: 映射痛点 '{pain_point}' 失败，所有重试都失败，使用默认值\")\n",
    "    if \"价格敏感度\" in social_media_variables:\n",
    "        return {\"价格敏感度\": 0.8, \"设计审美偏好\": 0.6}\n",
    "    else:\n",
    "        # 使用列表中的前两个变量作为默认值\n",
    "        defaults = {}\n",
    "        for var in social_media_variables[:2]:\n",
    "            defaults[var] = 0.7 if var == social_media_variables[0] else 0.5\n",
    "        return defaults\n",
    "\n",
    "\n",
    "def analyze_sentiment_with_huggingface(texts):\n",
    "    \"\"\"\n",
    "    使用Hugging Face的预训练模型分析文本情感强度\n",
    "    \n",
    "    Args:\n",
    "        texts: 需要分析的文本列表\n",
    "    \n",
    "    Returns:\n",
    "        list: 情感得分列表，范围在0-1之间\n",
    "    \"\"\"\n",
    "    try:\n",
    "        from transformers import pipeline\n",
    "        \n",
    "        print(\"正在加载情感分析模型...\")\n",
    "        # 加载情感分析模型\n",
    "        sentiment_analyzer = pipeline(\n",
    "            \"sentiment-analysis\", \n",
    "            model=\"distilbert-base-uncased-finetuned-sst-2-english\",\n",
    "            device=-1  # 使用CPU；如果有GPU可用，可以设为0或其他适当值\n",
    "        )\n",
    "        print(\"模型加载完成，开始分析文本情感...\")\n",
    "        \n",
    "        # 批量处理文本\n",
    "        results = []\n",
    "        batch_size = 16  # 设置适当的批处理大小\n",
    "        \n",
    "        for i in range(0, len(texts), batch_size):\n",
    "            batch_texts = texts[i:i + batch_size]\n",
    "            print(f\"处理文本批次 {i//batch_size + 1}/{(len(texts)-1)//batch_size + 1}\")\n",
    "            \n",
    "            # 处理文本长度限制问题\n",
    "            processed_texts = []\n",
    "            for text in batch_texts:\n",
    "                # 截断过长的文本\n",
    "                if len(text) > 512:\n",
    "                    processed_text = text[:512]\n",
    "                else:\n",
    "                    processed_text = text\n",
    "                processed_texts.append(processed_text)\n",
    "            \n",
    "            batch_results = sentiment_analyzer(processed_texts)\n",
    "            \n",
    "            for res in batch_results:\n",
    "                # 使用模型的置信度分数作为情感强度\n",
    "                sentiment_score = res[\"score\"]\n",
    "                results.append(sentiment_score)\n",
    "        \n",
    "        print(f\"情感分析完成，共处理{len(texts)}条文本\")\n",
    "        return results\n",
    "    \n",
    "    except ImportError as e:\n",
    "        print(f\"警告: 无法导入transformers模块 - {e}\")\n",
    "        print(\"将使用随机值代替情感分析结果\")\n",
    "        # 如果无法导入transformers，使用随机值作为替代\n",
    "        import random\n",
    "        return [random.uniform(0.5, 1.0) for _ in range(len(texts))]\n",
    "    \n",
    "    except Exception as e:\n",
    "        print(f\"情感分析过程中发生错误: {e}\")\n",
    "        print(\"将使用随机值代替情感分析结果\")\n",
    "        import random\n",
    "        return [random.uniform(0.5, 1.0) for _ in range(len(texts))]"
   ]
  },
  {
   "cell_type": "markdown",
   "metadata": {},
   "source": [
    "### 计算坐标值"
   ]
  },
  {
   "cell_type": "code",
   "execution_count": 5,
   "metadata": {
    "execution": {
     "iopub.execute_input": "2025-04-18T05:11:05.428399Z",
     "iopub.status.busy": "2025-04-18T05:11:05.428399Z",
     "iopub.status.idle": "2025-04-18T05:11:05.442772Z",
     "shell.execute_reply": "2025-04-18T05:11:05.442772Z"
    }
   },
   "outputs": [],
   "source": [
    "def establish_needs_relationships(voc_data, social_media_model):\n",
    "    \"\"\"\n",
    "    使用qwen-max模型建立痛点与社媒变量的关联关系\n",
    "    \n",
    "    Args:\n",
    "        voc_data: 包含产品未被满足的需求的DataFrame\n",
    "        social_media_model: 包含社交媒体变量的DataFrame\n",
    "    \n",
    "    Returns:\n",
    "        DataFrame: 包含需求与社媒变量关联关系的DataFrame\n",
    "    \"\"\"\n",
    "    import pandas as pd\n",
    "    from time import sleep\n",
    "    \n",
    "    # 配置OpenAI客户端\n",
    "    try:\n",
    "        client = configure_openai_client()\n",
    "    except ImportError as e:\n",
    "        print(f\"警告: 无法导入OpenAI模块 - {e}\")\n",
    "        print(\"将使用预定义的默认值进行分析\")\n",
    "        client = None\n",
    "    \n",
    "    # 获取可用的社交媒体变量列表\n",
    "    social_media_variables = social_media_model['变量'].tolist()\n",
    "    \n",
    "    # 为每个痛点创建关联关系\n",
    "    needs_relationships = []\n",
    "    \n",
    "    # 处理所有记录\n",
    "    for idx, row in voc_data.iterrows():            \n",
    "        need = row['需求名称']\n",
    "        print(f\"处理需求: {need}\")\n",
    "        \n",
    "        # 使用qwen-max模型进行映射\n",
    "        if client:\n",
    "            variable_mappings = map_needs_to_variables(need, social_media_variables, client)\n",
    "        else:\n",
    "            # 如果没有客户端，使用预定义的默认值\n",
    "            variable_mappings = {\"价格敏感度\": 0.8, \"设计审美偏好\": 0.6}\n",
    "        \n",
    "        # 为每个映射创建一条记录\n",
    "        for variable, association_strength in variable_mappings.items():\n",
    "            if variable in social_media_model['变量'].values:\n",
    "                var_row = social_media_model[social_media_model['变量'] == variable].iloc[0]\n",
    "                transmission_coef = abs(float(var_row['归一化系数']))\n",
    "                \n",
    "                needs_relationships.append({\n",
    "                    'need': need,\n",
    "                    'variable': variable,\n",
    "                    'association_strength': float(association_strength),\n",
    "                    'transmission_coef': transmission_coef\n",
    "                })\n",
    "        \n",
    "        # 添加短暂延迟，避免API调用过于频繁\n",
    "        if client:\n",
    "            sleep(0.5)\n",
    "    \n",
    "    # 转换为DataFrame\n",
    "    relationships_df = pd.DataFrame(needs_relationships)\n",
    "    \n",
    "    # 如果结果为空，添加一些默认值\n",
    "    if len(relationships_df) == 0:\n",
    "        print(\"警告: 未能建立任何痛点与社媒变量的关联关系，使用默认值\")\n",
    "        for idx, row in voc_data.iterrows():\n",
    "            pain_point = row['缺陷名称']\n",
    "            default_variables = social_media_variables[:2] if social_media_variables else [\"设计审美偏好\", \"价格敏感度\"]\n",
    "            \n",
    "            for i, variable in enumerate(default_variables):\n",
    "                if variable in social_media_model['变量'].values:\n",
    "                    var_row = social_media_model[social_media_model['变量'] == variable].iloc[0]\n",
    "                    transmission_coef = abs(float(var_row['归一化系数']))\n",
    "                    \n",
    "                    needs_relationships.append({\n",
    "                        'need': need,\n",
    "                        'variable': variable,\n",
    "                        'association_strength': 0.8 if i == 0 else 0.6,\n",
    "                        'transmission_coef': transmission_coef\n",
    "                    })\n",
    "        \n",
    "        relationships_df = pd.DataFrame(needs_relationships)\n",
    "    \n",
    "    return relationships_df\n",
    "\n",
    "def calculate_coordinates(voc_data, relationships_df):\n",
    "    # 准备存储计算结果的DataFrame\n",
    "    results = voc_data.copy()\n",
    "    \n",
    "    # 使用Hugging Face模型分析情感强度\n",
    "    sentiment_scores = analyze_sentiment_with_huggingface(results['需求名称'].tolist())\n",
    " #   results['情感得分'] = sentiment_scores\n",
    "     # 将得分反转，使高分表示强烈的负面情感\n",
    "    results['情感得分'] = 1 - np.array(sentiment_scores)\n",
    "    \n",
    "    # 归一化处理各项指标\n",
    "    max_severity = results['综合得分'].max()\n",
    "    max_specificity = results['文本质量'].max()\n",
    "    \n",
    "    results['归一化需求严重度'] = results['综合得分']\n",
    "    results['归一化特异性'] = results['文本质量'] / max_specificity if max_specificity > 0 else 0\n",
    "    \n",
    "    # 计算痛点影响评分 (X轴)\n",
    "    results['需求影响评分'] = (\n",
    "        0.3 * results['归一化需求严重度'] +\n",
    "        0.3 * results['情感得分'] +  # 使用新的情感得分\n",
    "        0.2 * results['归一化特异性'] +\n",
    "        0.2 * np.log1p(results['提及频率'])\n",
    "    )\n",
    "    \n",
    "    # 计算社媒传播指数 (Y轴)\n",
    "    social_media_indices = []\n",
    "    \n",
    "    for idx, row in results.iterrows():\n",
    "        need = row['需求名称']\n",
    "        relations = relationships_df[relationships_df['need'] == need]\n",
    "        \n",
    "        if len(relations) > 0:\n",
    "            # 计算加权平均\n",
    "            weighted_sum = sum(rel['transmission_coef'] * rel['association_strength'] for _, rel in relations.iterrows())\n",
    "            total_strength = sum(rel['association_strength'] for _, rel in relations.iterrows())\n",
    "            social_media_index = weighted_sum / total_strength if total_strength > 0 else 0\n",
    "        else:\n",
    "            social_media_index = 0\n",
    "            \n",
    "        social_media_indices.append(social_media_index)\n",
    "    \n",
    "    results['社媒传播指数'] = social_media_indices\n",
    "    \n",
    "    return results\n"
   ]
  },
  {
   "cell_type": "code",
   "execution_count": 6,
   "metadata": {
    "execution": {
     "iopub.execute_input": "2025-04-18T05:11:05.442772Z",
     "iopub.status.busy": "2025-04-18T05:11:05.442772Z",
     "iopub.status.idle": "2025-04-18T05:13:52.166208Z",
     "shell.execute_reply": "2025-04-18T05:13:52.166208Z"
    }
   },
   "outputs": [
    {
     "name": "stdout",
     "output_type": "stream",
     "text": [
      "处理需求: wish it had more tiers\n"
     ]
    },
    {
     "name": "stdout",
     "output_type": "stream",
     "text": [
      "处理需求: could use wheels for mobility\n"
     ]
    },
    {
     "name": "stdout",
     "output_type": "stream",
     "text": [
      "处理需求: would be better if it didn't wobble\n"
     ]
    },
    {
     "name": "stdout",
     "output_type": "stream",
     "text": [
      "处理需求: needs more storage space\n"
     ]
    },
    {
     "name": "stdout",
     "output_type": "stream",
     "text": [
      "处理需求: could use a minimalist design\n"
     ]
    },
    {
     "name": "stdout",
     "output_type": "stream",
     "text": [
      "处理需求: needs symbols of achievement\n"
     ]
    },
    {
     "name": "stdout",
     "output_type": "stream",
     "text": [
      "处理需求: wish it was easier to assemble\n"
     ]
    },
    {
     "name": "stdout",
     "output_type": "stream",
     "text": [
      "处理需求: needs stronger shelves\n"
     ]
    },
    {
     "name": "stdout",
     "output_type": "stream",
     "text": [
      "处理需求: needs clearer assembly instructions\n"
     ]
    },
    {
     "name": "stdout",
     "output_type": "stream",
     "text": [
      "处理需求: could use a top shelf\n"
     ]
    },
    {
     "name": "stdout",
     "output_type": "stream",
     "text": [
      "处理需求: could use a polish rack\n"
     ]
    },
    {
     "name": "stdout",
     "output_type": "stream",
     "text": [
      "处理需求: could use a night light\n"
     ]
    },
    {
     "name": "stdout",
     "output_type": "stream",
     "text": [
      "处理需求: needs time management\n"
     ]
    },
    {
     "name": "stdout",
     "output_type": "stream",
     "text": [
      "处理需求: would be better if it supported heavier shoes\n"
     ]
    },
    {
     "name": "stdout",
     "output_type": "stream",
     "text": [
      "处理需求: needs a sturdier frame\n"
     ]
    },
    {
     "name": "stdout",
     "output_type": "stream",
     "text": [
      "处理需求: would be better if it had a shoe organizer\n"
     ]
    },
    {
     "name": "stdout",
     "output_type": "stream",
     "text": [
      "处理需求: could use a welcome mat\n"
     ]
    },
    {
     "name": "stdout",
     "output_type": "stream",
     "text": [
      "处理需求: needs package deals\n"
     ]
    },
    {
     "name": "stdout",
     "output_type": "stream",
     "text": [
      "处理需求: needs lower shelves\n"
     ]
    },
    {
     "name": "stdout",
     "output_type": "stream",
     "text": [
      "处理需求: wish it had a shoe tier\n"
     ]
    },
    {
     "name": "stdout",
     "output_type": "stream",
     "text": [
      "处理需求: could have been a lot more space in betw\n"
     ]
    },
    {
     "name": "stdout",
     "output_type": "stream",
     "text": [
      "处理需求: needs additional hanging space\n"
     ]
    },
    {
     "name": "stdout",
     "output_type": "stream",
     "text": [
      "处理需求: needed storage without taking up t\n"
     ]
    },
    {
     "name": "stdout",
     "output_type": "stream",
     "text": [
      "处理需求: more shoes than i thought it would\n"
     ]
    },
    {
     "name": "stdout",
     "output_type": "stream",
     "text": [
      "处理需求: could be my fault but it\n"
     ]
    },
    {
     "name": "stdout",
     "output_type": "stream",
     "text": [
      "处理需求: better than the one i have had for y\n"
     ]
    },
    {
     "name": "stdout",
     "output_type": "stream",
     "text": [
      "处理需求: needed to angle shoes sideways and\n"
     ]
    },
    {
     "name": "stdout",
     "output_type": "stream",
     "text": [
      "处理需求: would like to give it 3\n"
     ]
    },
    {
     "name": "stdout",
     "output_type": "stream",
     "text": [
      "处理需求: need a quick and somewhat cute sol\n"
     ]
    },
    {
     "name": "stdout",
     "output_type": "stream",
     "text": [
      "处理需求: wish it was waterproof\n"
     ]
    },
    {
     "name": "stdout",
     "output_type": "stream",
     "text": [
      "处理需求: wish it was stackable\n"
     ]
    },
    {
     "name": "stdout",
     "output_type": "stream",
     "text": [
      "处理需求: need a quick solution\n"
     ]
    },
    {
     "name": "stdout",
     "output_type": "stream",
     "text": [
      "处理需求: hoped it would be more sturdy\n"
     ]
    },
    {
     "name": "stdout",
     "output_type": "stream",
     "text": [
      "处理需求: needed but the holes in the top of\n"
     ]
    },
    {
     "name": "stdout",
     "output_type": "stream",
     "text": [
      "处理需求: better product\n"
     ]
    },
    {
     "name": "stdout",
     "output_type": "stream",
     "text": [
      "处理需求: could see that in the photos\n"
     ]
    },
    {
     "name": "stdout",
     "output_type": "stream",
     "text": [
      "处理需求: need 2 people\n"
     ]
    },
    {
     "name": "stdout",
     "output_type": "stream",
     "text": [
      "处理需求: would be better if it reminded of shoe care\n"
     ]
    },
    {
     "name": "stdout",
     "output_type": "stream",
     "text": [
      "处理需求: should order this product again\n"
     ]
    },
    {
     "name": "stdout",
     "output_type": "stream",
     "text": [
      "处理需求: better sellers on amazon\n"
     ]
    },
    {
     "name": "stdout",
     "output_type": "stream",
     "text": [
      "处理需求: need a large shoe storage\n"
     ]
    },
    {
     "name": "stdout",
     "output_type": "stream",
     "text": [
      "处理需求: more like paper and i had to glue\n"
     ]
    },
    {
     "name": "stdout",
     "output_type": "stream",
     "text": [
      "处理需求: would have liked to have more room betwe\n"
     ]
    },
    {
     "name": "stdout",
     "output_type": "stream",
     "text": [
      "处理需求: wish it was metal\n"
     ]
    },
    {
     "name": "stdout",
     "output_type": "stream",
     "text": [
      "处理需求: need a hammer to make sure it was\n"
     ]
    },
    {
     "name": "stdout",
     "output_type": "stream",
     "text": [
      "处理需求: would be fine\n"
     ]
    },
    {
     "name": "stdout",
     "output_type": "stream",
     "text": [
      "处理需求: would have given it 5 stars had the dire\n"
     ]
    },
    {
     "name": "stdout",
     "output_type": "stream",
     "text": [
      "处理需求: could have been a 30 minute assembly\n"
     ]
    },
    {
     "name": "stdout",
     "output_type": "stream",
     "text": [
      "处理需求: would have trouble fitting\n"
     ]
    },
    {
     "name": "stdout",
     "output_type": "stream",
     "text": [
      "处理需求: more storage capacity\n"
     ]
    },
    {
     "name": "stdout",
     "output_type": "stream",
     "text": [
      "处理需求: could fit\n"
     ]
    },
    {
     "name": "stdout",
     "output_type": "stream",
     "text": [
      "处理需求: better quality\n"
     ]
    },
    {
     "name": "stdout",
     "output_type": "stream",
     "text": [
      "处理需求: better sturdiness\n"
     ]
    },
    {
     "name": "stdout",
     "output_type": "stream",
     "text": [
      "处理需求: more space for each level yet stil\n"
     ]
    },
    {
     "name": "stdout",
     "output_type": "stream",
     "text": [
      "处理需求: could do\n"
     ]
    },
    {
     "name": "stdout",
     "output_type": "stream",
     "text": [
      "处理需求: could use a spotlight\n"
     ]
    },
    {
     "name": "stdout",
     "output_type": "stream",
     "text": [
      "处理需求: would be nice\n"
     ]
    },
    {
     "name": "stdout",
     "output_type": "stream",
     "text": [
      "处理需求: needed it too\n"
     ]
    },
    {
     "name": "stdout",
     "output_type": "stream",
     "text": [
      "处理需求: more because a lot of people in my\n"
     ]
    },
    {
     "name": "stdout",
     "output_type": "stream",
     "text": [
      "处理需求: more for\n"
     ]
    },
    {
     "name": "stdout",
     "output_type": "stream",
     "text": [
      "处理需求: wish it had a shoe bag\n"
     ]
    },
    {
     "name": "stdout",
     "output_type": "stream",
     "text": [
      "处理需求: need a cheap shoe storage rack\n"
     ]
    },
    {
     "name": "stdout",
     "output_type": "stream",
     "text": [
      "处理需求: needed a space to hold my shoes an\n"
     ]
    },
    {
     "name": "stdout",
     "output_type": "stream",
     "text": [
      "处理需求: needs storage bags\n"
     ]
    },
    {
     "name": "stdout",
     "output_type": "stream",
     "text": [
      "处理需求: need some where to store my boots\n"
     ]
    },
    {
     "name": "stdout",
     "output_type": "stream",
     "text": [
      "处理需求: would be a great product to store my e\n"
     ]
    },
    {
     "name": "stdout",
     "output_type": "stream",
     "text": [
      "处理需求: want to waste my time with a replac\n"
     ]
    },
    {
     "name": "stdout",
     "output_type": "stream",
     "text": [
      "处理需求: better than the other item i bought\n"
     ]
    },
    {
     "name": "stdout",
     "output_type": "stream",
     "text": [
      "处理需求: needs for what we bought it for bu\n"
     ]
    },
    {
     "name": "stdout",
     "output_type": "stream",
     "text": [
      "处理需求: wish i didn\n"
     ]
    },
    {
     "name": "stdout",
     "output_type": "stream",
     "text": [
      "处理需求: would like to return this product but i\n"
     ]
    },
    {
     "name": "stdout",
     "output_type": "stream",
     "text": [
      "处理需求: would be better if it paired shoes together\n"
     ]
    },
    {
     "name": "stdout",
     "output_type": "stream",
     "text": [
      "处理需求: could give this pos negative 100 sta\n"
     ]
    },
    {
     "name": "stdout",
     "output_type": "stream",
     "text": [
      "处理需求: could use a tier system\n"
     ]
    },
    {
     "name": "stdout",
     "output_type": "stream",
     "text": [
      "处理需求: should take responsibility for their\n"
     ]
    },
    {
     "name": "stdout",
     "output_type": "stream",
     "text": [
      "处理需求: need tools to make adjustments to\n"
     ]
    },
    {
     "name": "stdout",
     "output_type": "stream",
     "text": [
      "处理需求: need a refund it\n"
     ]
    },
    {
     "name": "stdout",
     "output_type": "stream",
     "text": [
      "处理需求: needle nose to bend most of the en\n"
     ]
    },
    {
     "name": "stdout",
     "output_type": "stream",
     "text": [
      "处理需求: needed 12 thumb screws to assemble\n"
     ]
    },
    {
     "name": "stdout",
     "output_type": "stream",
     "text": [
      "处理需求: needed to effectively frame the ra\n"
     ]
    },
    {
     "name": "stdout",
     "output_type": "stream",
     "text": [
      "正在加载情感分析模型...\n"
     ]
    },
    {
     "name": "stderr",
     "output_type": "stream",
     "text": [
      "Device set to use cpu\n"
     ]
    },
    {
     "name": "stdout",
     "output_type": "stream",
     "text": [
      "模型加载完成，开始分析文本情感...\n",
      "处理文本批次 1/5\n"
     ]
    },
    {
     "name": "stdout",
     "output_type": "stream",
     "text": [
      "处理文本批次 2/5\n",
      "处理文本批次 3/5\n"
     ]
    },
    {
     "name": "stdout",
     "output_type": "stream",
     "text": [
      "处理文本批次 4/5\n",
      "处理文本批次 5/5\n"
     ]
    },
    {
     "name": "stdout",
     "output_type": "stream",
     "text": [
      "情感分析完成，共处理80条文本\n",
      "\n",
      "计算结果概览:\n",
      "                                  需求名称    需求影响评分    社媒传播指数\n",
      "0               wish it had more tiers  0.495917  0.739130\n",
      "1        could use wheels for mobility  0.362248  0.444444\n",
      "2  would be better if it didn't wobble  0.305751  0.739130\n",
      "3             needs more storage space  0.244217  0.300000\n",
      "4        could use a minimalist design  0.207487  0.333333\n"
     ]
    }
   ],
   "source": [
    "# 执行分析\n",
    "relationships_df = establish_needs_relationships(voc_data, social_media_model)\n",
    "results = calculate_coordinates(voc_data, relationships_df)\n",
    "\n",
    "# 显示结果概览\n",
    "print(\"\\n计算结果概览:\")\n",
    "print(results[['需求名称', '需求影响评分', '社媒传播指数']].head())"
   ]
  },
  {
   "cell_type": "code",
   "execution_count": 7,
   "metadata": {
    "execution": {
     "iopub.execute_input": "2025-04-18T05:13:52.166208Z",
     "iopub.status.busy": "2025-04-18T05:13:52.166208Z",
     "iopub.status.idle": "2025-04-18T05:13:52.227405Z",
     "shell.execute_reply": "2025-04-18T05:13:52.227405Z"
    }
   },
   "outputs": [],
   "source": [
    "excel_path = os.path.join(sub_dir_path,'四象限数据-需求.xlsx')\n",
    "results.to_excel(excel_path, index=False)"
   ]
  },
  {
   "cell_type": "markdown",
   "metadata": {},
   "source": [
    "### 绘制四象限图"
   ]
  },
  {
   "cell_type": "code",
   "execution_count": 8,
   "metadata": {
    "execution": {
     "iopub.execute_input": "2025-04-18T05:13:52.227405Z",
     "iopub.status.busy": "2025-04-18T05:13:52.227405Z",
     "iopub.status.idle": "2025-04-18T05:13:52.242448Z",
     "shell.execute_reply": "2025-04-18T05:13:52.242448Z"
    }
   },
   "outputs": [
    {
     "name": "stdout",
     "output_type": "stream",
     "text": [
      "['Microsoft YaHei', 'Microsoft YaHei', 'SimHei', 'Microsoft YaHei']\n"
     ]
    }
   ],
   "source": [
    "from matplotlib.font_manager import fontManager\n",
    "print([f.name for f in fontManager.ttflist if 'YaHei' in f.name or 'SimHei' in f.name])"
   ]
  },
  {
   "cell_type": "code",
   "execution_count": 9,
   "metadata": {
    "execution": {
     "iopub.execute_input": "2025-04-18T05:13:52.242448Z",
     "iopub.status.busy": "2025-04-18T05:13:52.242448Z",
     "iopub.status.idle": "2025-04-18T05:13:52.257830Z",
     "shell.execute_reply": "2025-04-18T05:13:52.257830Z"
    }
   },
   "outputs": [],
   "source": [
    "import os\n",
    "import platform\n",
    "import numpy as np\n",
    "import pandas as pd # 确保导入 pandas\n",
    "import matplotlib.pyplot as plt\n",
    "import matplotlib as mpl\n",
    "from matplotlib import font_manager as fm\n",
    "import shutil\n",
    "\n",
    "# # (假设其他必要的导入已存在)\n",
    "\n",
    "# def plot_quadrant_chart(results):\n",
    "#     \"\"\"\n",
    "#     绘制四象限图 (针对需求分析)\n",
    "    \n",
    "#     Args:\n",
    "#         results: 包含必要列的DataFrame（需求名称、需求影响评分、社媒传播指数、综合得分、提及频率） # <--- 修改: 更新Args描述\n",
    "#     \"\"\"\n",
    "#     # ================== 字体配置段 (保留，使用之前的健壮版本) ==================\n",
    "#     def set_chinese_font():\n",
    "#         \"\"\" 强制字体加载方案 \"\"\"\n",
    "#         try:\n",
    "#             cache_dir = mpl.get_cachedir()\n",
    "#             if os.path.exists(cache_dir):\n",
    "#                  shutil.rmtree(cache_dir)\n",
    "#         except Exception as e:\n",
    "#             print(f\"缓存清理失败: {str(e)}\")\n",
    "\n",
    "#         font_paths_to_try = [\n",
    "#             'C:/Windows/Fonts/msyh.ttc', # 优先尝试微软雅黑\n",
    "#             'C:/Windows/Fonts/simhei.ttf' # 备选黑体\n",
    "#         ]\n",
    "#         font_prop = None\n",
    "\n",
    "#         # 尝试直接路径加载\n",
    "#         for font_path in font_paths_to_try:\n",
    "#             if os.path.exists(font_path):\n",
    "#                 try:\n",
    "#                     font_prop = fm.FontProperties(fname=font_path)\n",
    "#                     print(f\"成功加载字体: {font_path}\")\n",
    "#                     break # 找到一个就停止\n",
    "#                 except Exception as e:\n",
    "#                     print(f\"尝试加载 {font_path} 失败: {e}\")\n",
    "\n",
    "#         # 如果直接路径失败，尝试系统查找\n",
    "#         if font_prop is None:\n",
    "#             print(\"直接路径加载字体失败，尝试系统查找...\")\n",
    "#             try:\n",
    "#                 system_fonts = fm.findSystemFonts(fontpaths=None, fontext='ttf')\n",
    "#                 found_font_path = None\n",
    "#                 for fpath in system_fonts:\n",
    "#                     fname_lower = os.path.basename(fpath).lower()\n",
    "#                     if 'msyh' in fname_lower or 'microsoft yahei' in fname_lower:\n",
    "#                         found_font_path = fpath\n",
    "#                         print(f\"系统查找到微软雅黑: {fpath}\")\n",
    "#                         break\n",
    "#                     elif 'simhei' in fname_lower: # 如果没找到雅黑，尝试黑体\n",
    "#                         found_font_path = fpath\n",
    "#                         print(f\"系统查找到黑体: {fpath}\")\n",
    "#                         # 不break，继续看有没有雅黑\n",
    "\n",
    "#                 if found_font_path:\n",
    "#                      font_prop = fm.FontProperties(fname=found_font_path)\n",
    "#                 else:\n",
    "#                     print(\"警告：系统中也未找到微软雅黑或黑体。\")\n",
    "\n",
    "#             except Exception as e:\n",
    "#                 print(f\"系统字体查找失败: {e}\")\n",
    "\n",
    "#         # 设置matplotlib全局字体\n",
    "#         if font_prop:\n",
    "#             mpl.rcParams['font.family'] = font_prop.get_name()\n",
    "#             mpl.rcParams['axes.unicode_minus'] = False\n",
    "#             print(f\"Matplotlib字体设置为: {font_prop.get_name()}\")\n",
    "#         else:\n",
    "#             # 如果最终都找不到，进行最后设置并警告\n",
    "#             mpl.rcParams['axes.unicode_minus'] = False\n",
    "#             print(\"警告：未能成功加载中文字体，图表中文可能显示为方框。将使用系统默认字体。\")\n",
    "\n",
    "#         return font_prop # 返回加载的字体属性或None\n",
    "\n",
    "#     try:\n",
    "#         font_prop = set_chinese_font()  # 执行字体设置\n",
    "#     except Exception as e:\n",
    "#         print(f\"字体加载过程中发生错误: {str(e)}\")\n",
    "#         font_prop = None # 保证 font_prop 被定义\n",
    "\n",
    "#     # ================== 绘图核心逻辑 (保留结构) ==================\n",
    "#     fig, ax = plt.subplots(figsize=(14, 12))\n",
    "\n",
    "#     # 设置绘图风格 (保留)\n",
    "#     try:\n",
    "#         plt.style.use('seaborn-v0_8-whitegrid')\n",
    "#     except:\n",
    "#         try:\n",
    "#              plt.style.use('seaborn-whitegrid')\n",
    "#         except:\n",
    "#             print(\"使用默认样式\")\n",
    "\n",
    "#     # 绘制散点图（参数优化）\n",
    "#     scatter = ax.scatter(\n",
    "#         results['需求影响评分'], # <--- 修改: 使用 '需求影响评分' 作为 X 轴\n",
    "#         results['社媒传播指数'], # <--- 保留: Y 轴不变\n",
    "#         s=np.sqrt(results['提及频率']) * 3000 + 100,  # <--- 保留: 点大小计算逻辑\n",
    "#         alpha=0.75, # <--- 保留\n",
    "#         c=results['综合得分'], # <--- 保留: 颜色映射\n",
    "#         cmap='RdYlGn', # <--- 保留: 颜色主题\n",
    "#         edgecolors='w', # <--- 保留\n",
    "#         linewidths=0.5 # <--- 保留\n",
    "#     )\n",
    "\n",
    "#     # --- 确定坐标轴范围和中心点 (逻辑保留，变量更新) ---\n",
    "#     x_min_data = results['需求影响评分'].min() # <--- 修改: 使用 '需求影响评分'\n",
    "#     x_max_data = results['需求影响评分'].max() # <--- 修改: 使用 '需求影响评分'\n",
    "#     y_min_data = results['社媒传播指数'].min() # <--- 保留\n",
    "#     y_max_data = results['社媒传播指数'].max() # <--- 保留\n",
    "\n",
    "#     x_padding = (x_max_data - x_min_data) * 0.15 # <--- 保留\n",
    "#     y_padding = (y_max_data - y_min_data) * 0.15 # <--- 保留\n",
    "\n",
    "#     ax.set_xlim(x_min_data - x_padding, x_max_data + x_padding) # <--- 保留\n",
    "#     ax.set_ylim(y_min_data - y_padding, y_max_data + y_padding) # <--- 保留\n",
    "\n",
    "#     x_min_ax, x_max_ax = ax.get_xlim() # <--- 保留\n",
    "#     y_min_ax, y_max_ax = ax.get_ylim() # <--- 保留\n",
    "\n",
    "#     # --- 计算图表中心点 (逻辑保留) ---\n",
    "#     x_middle = (x_min_ax + x_max_ax) / 2\n",
    "#     y_middle = (y_min_ax + y_max_ax) / 2\n",
    "\n",
    "#     # --- !!! 新增/修改：分配图表象限并导出Excel (复用之前的逻辑) !!! ---\n",
    "#     print(f\"\\n根据图表中心点分配象限:\")\n",
    "#     print(f\"X轴 ('需求影响评分') 中心点: {x_middle:.4f}\") # <--- 修改: 打印列名\n",
    "#     print(f\"Y轴 ('社媒传播指数') 中心点: {y_middle:.4f}\") # <--- 保留\n",
    "\n",
    "#     # 定义象限名称 (使用用户代码中为“需求”定义的名称)\n",
    "#     quadrant_names = { # <--- 修改: 使用新的象限名称\n",
    "#         1: '第一象限 (核心传播机会区)',\n",
    "#         2: '第二象限 (市场教育区)',\n",
    "#         3: '第三象限 (低关注潜力区)',\n",
    "#         4: '第四象限 (潜在差异化区)'\n",
    "#     }\n",
    "\n",
    "#     # 分配象限逻辑 (使用更新后的X轴列名)\n",
    "#     conditions = [\n",
    "#         (results['需求影响评分'] > x_middle) & (results['社媒传播指数'] > y_middle),  # Q1 <--- 修改: 使用 '需求影响评分'\n",
    "#         (results['需求影响评分'] <= x_middle) & (results['社媒传播指数'] > y_middle), # Q2 <--- 修改: 使用 '需求影响评分'\n",
    "#         (results['需求影响评分'] <= x_middle) & (results['社媒传播指数'] <= y_middle),# Q3 <--- 修改: 使用 '需求影响评分'\n",
    "#         (results['需求影响评分'] > x_middle) & (results['社媒传播指数'] <= y_middle)  # Q4 <--- 修改: 使用 '需求影响评分'\n",
    "#     ]\n",
    "#     choices = [quadrant_names[1], quadrant_names[2], quadrant_names[3], quadrant_names[4]] # <--- 保留\n",
    "#     results['图表象限'] = np.select(conditions, choices, default='未分配') # <--- 保留\n",
    "\n",
    "#     # 定义输出路径和文件名\n",
    "#     outdir = '生成结果/last_quadrant/' # <--- 保留: 输出目录不变\n",
    "#     excel_filename = 'plot_quadrant_data_需求.xlsx' # <--- 修改: 新的Excel文件名，反映是“需求”数据\n",
    "#     excel_save_path = os.path.join(outdir, excel_filename) # <--- 保留\n",
    "\n",
    "#     # 确保目录存在 (保留)\n",
    "#     os.makedirs(outdir, exist_ok=True)\n",
    "\n",
    "#     # 导出包含所有原始列和新图表象限列的DataFrame (保留逻辑)\n",
    "#     try:\n",
    "#         results.to_excel(excel_save_path, index=False)\n",
    "#         print(f\"已将包含图表象限的数据导出至: {excel_save_path}\") # <--- 保留\n",
    "#     except Exception as e:\n",
    "#         print(f\"导出Excel文件失败: {e}\") # <--- 保留\n",
    "#     # --- Excel导出结束 ---\n",
    "\n",
    "#     # --- 继续绘图的剩余部分 ---\n",
    "\n",
    "#     # 绘制中心分割线 (保留)\n",
    "#     ax.axvline(x=x_middle, color='#666666', linestyle=':', linewidth=1.5, alpha=0.9)\n",
    "#     ax.axhline(y=y_middle, color='#666666', linestyle=':', linewidth=1.5, alpha=0.9)\n",
    "\n",
    "#     # --- 文本标注优化 (保留 add_quadrant_text 函数定义) ---\n",
    "#     def add_quadrant_text(x_pos, y_pos, text):\n",
    "#         \"\"\" 统一文本标注样式 \"\"\"\n",
    "#         text_kwargs = {\n",
    "#             'ha': 'center', 'va': 'center',\n",
    "#             'bbox': dict(boxstyle='round,pad=0.5', facecolor='#FFFFFFDD', edgecolor='#80808080', linewidth=0.8),\n",
    "#             'fontsize': 11\n",
    "#         }\n",
    "#         if font_prop: # 检查字体是否加载成功\n",
    "#             text_kwargs['fontproperties'] = font_prop\n",
    "#         ax.text(x_pos, y_pos, text, **text_kwargs)\n",
    "\n",
    "#     # --- 修改：优化四象限标注位置 (逻辑保留，计算坐标保留) ---\n",
    "#     x_range = x_max_ax - x_min_ax # <--- 保留\n",
    "#     y_range = y_max_ax - y_min_ax # <--- 保留\n",
    "\n",
    "#     q1_x = x_middle + x_range * 0.25 # <--- 保留\n",
    "#     q1_y = y_middle + y_range * 0.25 # <--- 保留\n",
    "#     q2_x = x_middle - x_range * 0.25 # <--- 保留\n",
    "#     q2_y = y_middle + y_range * 0.25 # <--- 保留\n",
    "#     q3_x = x_middle - x_range * 0.25 # <--- 保留\n",
    "#     q3_y = y_middle - y_range * 0.25 # <--- 保留\n",
    "#     q4_x = x_middle + x_range * 0.25 # <--- 保留\n",
    "#     q4_y = y_middle - y_range * 0.25 # <--- 保留\n",
    "\n",
    "#     # --- 添加象限文本 (使用用户代码中为“需求”定义的文本) ---\n",
    "#     add_quadrant_text(q1_x, q1_y, '第一象限\\n核心传播机会区\\n(高需求 + 高传播)') # <--- 修改: 更新象限文本\n",
    "#     add_quadrant_text(q2_x, q2_y, '第二象限\\n市场教育区\\n(低需求 + 高传播)') # <--- 修改: 更新象限文本\n",
    "#     add_quadrant_text(q3_x, q3_y, '第三象限\\n低关注潜力区\\n(低需求 + 低传播)') # <--- 修改: 更新象限文本\n",
    "#     add_quadrant_text(q4_x, q4_y, '第四象限\\n潜在差异化区\\n(高需求 + 低传播)') # <--- 修改: 更新象限文本\n",
    "\n",
    "#     # --- 基于象限分区的优化标签布局算法 (保留 optimized_quadrant_label_layout 函数定义) ---\n",
    "#     # (假设 optimized_quadrant_label_layout 函数定义在这里或全局，其内部逻辑不变)\n",
    "#     def optimized_quadrant_label_layout(df, ax, x_col, y_col, label_col, font_prop):\n",
    "#         # (此函数内容保持不变，参考您之前的代码)\n",
    "#         x_min, x_max = ax.get_xlim()\n",
    "#         y_min, y_max = ax.get_ylim()\n",
    "#         x_middle = (x_min + x_max) / 2\n",
    "#         y_middle = (y_min + y_max) / 2\n",
    "\n",
    "#         q1 = df[(df[x_col] > x_middle) & (df[y_col] > y_middle)].copy()\n",
    "#         q2 = df[(df[x_col] <= x_middle) & (df[y_col] > y_middle)].copy()\n",
    "#         q3 = df[(df[x_col] <= x_middle) & (df[y_col] <= y_middle)].copy()\n",
    "#         q4 = df[(df[x_col] > x_middle) & (df[y_col] <= y_middle)].copy()\n",
    "\n",
    "#         quadrant_config = {\n",
    "#             'q1': {'base_angle': np.pi/4, 'angle_range': np.pi/2, 'placed_labels': []},\n",
    "#             'q2': {'base_angle': 3*np.pi/4, 'angle_range': np.pi/2, 'placed_labels': []},\n",
    "#             'q3': {'base_angle': 5*np.pi/4, 'angle_range': np.pi/2, 'placed_labels': []},\n",
    "#             'q4': {'base_angle': 7*np.pi/4, 'angle_range': np.pi/2, 'placed_labels': []}\n",
    "#         }\n",
    "\n",
    "#         for quadrant, data in zip(['q1', 'q2', 'q3', 'q4'], [q1, q2, q3, q4]):\n",
    "#             data_sorted = data.sort_values('综合得分', ascending=False)\n",
    "#             config = quadrant_config[quadrant]\n",
    "#             base_angle = config['base_angle']\n",
    "#             angle_range = config['angle_range']\n",
    "#             placed_labels = config['placed_labels']\n",
    "\n",
    "#             if quadrant == 'q1': max_offset = min(x_max - x_middle, y_max - y_middle) * 0.8\n",
    "#             elif quadrant == 'q2': max_offset = min(x_middle - x_min, y_max - y_middle) * 0.8\n",
    "#             elif quadrant == 'q3': max_offset = min(x_middle - x_min, y_middle - y_min) * 0.8\n",
    "#             else: max_offset = min(x_max - x_middle, y_middle - y_min) * 0.8\n",
    "\n",
    "#             for idx, row in data_sorted.iterrows():\n",
    "#                 x, y = row[x_col], row[y_col]\n",
    "#                 label = row[label_col]\n",
    "#                 text_width = len(str(label)) * 5 + 10 # 调整估计宽度\n",
    "#                 text_height = 20\n",
    "\n",
    "#                 angles = [base_angle - angle_range/2 + i*angle_range/(6-1) for i in range(6)]\n",
    "#                 best_pos = None\n",
    "#                 best_dist = float('inf')\n",
    "\n",
    "#                 for angle in angles:\n",
    "#                     for distance_factor in np.linspace(0.2, 1.0, 8):\n",
    "#                         distance = max_offset * distance_factor\n",
    "#                         dx, dy = np.cos(angle) * distance, np.sin(angle) * distance\n",
    "#                         label_x, label_y = x + dx, y + dy\n",
    "\n",
    "#                         if (label_x - text_width/2 < x_min or label_x + text_width/2 > x_max or\n",
    "#                             label_y - text_height/2 < y_min or label_y + text_height/2 > y_max):\n",
    "#                             continue\n",
    "\n",
    "#                         overlap = False\n",
    "#                         for px, py, pw, ph in placed_labels:\n",
    "#                             rect1 = (label_x-text_width/2, label_y-text_height/2, text_width, text_height)\n",
    "#                             rect2 = (px-pw/2, py-ph/2, pw, ph)\n",
    "#                             if not (rect1[0] + rect1[2] < rect2[0] or rect1[0] > rect2[0] + rect2[2] or\n",
    "#                                     rect1[1] + rect1[3] < rect2[1] or rect1[1] > rect2[1] + rect2[3]):\n",
    "#                                 overlap = True\n",
    "#                                 break\n",
    "#                         if not overlap:\n",
    "#                             point_dist = np.sqrt(dx**2 + dy**2)\n",
    "#                             if best_pos is None or point_dist < best_dist:\n",
    "#                                 best_pos = (label_x, label_y, dx, dy)\n",
    "#                                 best_dist = point_dist\n",
    "\n",
    "#                 annotate_kwargs = {\n",
    "#                     'fontsize': 9, 'ha': 'center', 'va': 'center',\n",
    "#                     'arrowprops': dict(arrowstyle='-|>', color='#404040', linewidth=0.8, alpha=0.7),\n",
    "#                     'bbox': dict(boxstyle='round,pad=0.3', facecolor='#FFFFFFDD', edgecolor='#A0A0A0', linewidth=0.5)\n",
    "#                 }\n",
    "#                 if font_prop: # 检查字体\n",
    "#                     annotate_kwargs['fontproperties'] = font_prop\n",
    "\n",
    "#                 if best_pos is not None:\n",
    "#                     label_x, label_y, dx, dy = best_pos\n",
    "#                     ax.annotate(text=label, xy=(x, y), xytext=(label_x, label_y), **annotate_kwargs)\n",
    "#                     placed_labels.append((label_x, label_y, text_width, text_height))\n",
    "#                 else:\n",
    "#                     angle = base_angle\n",
    "#                     distance = max_offset * 0.3\n",
    "#                     label_x = x + np.cos(angle) * distance\n",
    "#                     label_y = y + np.sin(angle) * distance\n",
    "#                     ax.annotate(text=label, xy=(x, y), xytext=(label_x, label_y), **annotate_kwargs)\n",
    "#                     placed_labels.append((label_x, label_y, text_width, text_height))\n",
    "#     # --- optimized_quadrant_label_layout 定义结束 ---\n",
    "\n",
    "#     # --- 执行优化的象限分区标签布局 (修改调用参数) ---\n",
    "#     optimized_quadrant_label_layout(\n",
    "#         results, ax,\n",
    "#         x_col='需求影响评分',      # <--- 修改: 使用 '需求影响评分' 作为 x_col\n",
    "#         y_col='社媒传播指数',      # <--- 保留\n",
    "#         label_col='需求名称',      # <--- 修改: 使用 '需求名称' 作为 label_col\n",
    "#         font_prop=font_prop      # <--- 保留: 传递字体属性\n",
    "#     )\n",
    "\n",
    "#     # --- 坐标轴标签和标题 (修改标签和标题文本) ---\n",
    "#     label_kwargs = {'fontsize': 14, 'labelpad': 12}\n",
    "#     title_kwargs = {'fontsize': 16, 'pad': 20}\n",
    "#     if font_prop: # 检查字体\n",
    "#         label_kwargs['fontproperties'] = font_prop\n",
    "#         title_kwargs['fontproperties'] = font_prop\n",
    "\n",
    "#     ax.set_xlabel('需求影响评分', **label_kwargs) # <--- 修改: X轴标签文本\n",
    "#     ax.set_ylabel('社媒传播指数', **label_kwargs) # <--- 保留: Y轴标签文本\n",
    "#     ax.set_title('未被满足的需求-消费者洞察四象限分析', **title_kwargs) # <--- 修改: 图表标题文本 (来自用户代码)\n",
    "\n",
    "#     # --- 颜色条设置 (保留) ---\n",
    "#     cbar_label_kwargs = {'fontsize': 12}\n",
    "#     if font_prop: # 检查字体\n",
    "#         cbar_label_kwargs['fontproperties'] = font_prop\n",
    "#     cbar = fig.colorbar(scatter, ax=ax, pad=0.02)\n",
    "#     cbar.set_label('综合得分', **cbar_label_kwargs) # <--- 保留\n",
    "\n",
    "#     # --- 输出设置 (保留) ---\n",
    "#     ax.grid(True, linestyle='--', alpha=0.6)\n",
    "#     fig.tight_layout()\n",
    "\n",
    "#     # --- 保存图表文件 (保留，文件名来自用户代码) ---\n",
    "#     png_filename = 'need_quadrant_analysis.png' # <--- 保留 (来自用户代码)\n",
    "#     png_save_path = os.path.join(outdir, png_filename)\n",
    "#     fig.savefig(png_save_path, dpi=300, bbox_inches='tight', facecolor='white')\n",
    "#     print(f\"分析图已保存至: {png_save_path}\") # <--- 保留\n",
    "\n",
    "#     # --- 显示图表 (保留) ---\n",
    "#     try:\n",
    "#         plt.show()\n",
    "#     except Exception as e:\n",
    "#         print(f\"显示图表时出错 (可能是非交互环境): {e}\")\n",
    "#         print(\"图表已保存至文件。\")\n"
   ]
  },
  {
   "cell_type": "code",
   "execution_count": 10,
   "metadata": {
    "execution": {
     "iopub.execute_input": "2025-04-18T05:13:52.257830Z",
     "iopub.status.busy": "2025-04-18T05:13:52.257830Z",
     "iopub.status.idle": "2025-04-18T05:13:52.288130Z",
     "shell.execute_reply": "2025-04-18T05:13:52.288130Z"
    }
   },
   "outputs": [],
   "source": [
    "def plot_quadrant_chart(results):\n",
    "    \"\"\"\n",
    "    绘制四象限图 (针对需求分析)，支持处理空DataFrame\n",
    "\n",
    "    Args:\n",
    "        results: 包含必要列的DataFrame（需求名称、需求影响评分、社媒传播指数、综合得分等）\n",
    "    \"\"\"\n",
    "    # 检查数据是否为空\n",
    "    is_empty_data = len(results) == 0\n",
    "    \n",
    "    # ================== 字体配置段 (保留，使用之前的健壮版本) ==================\n",
    "    def set_chinese_font():\n",
    "        \"\"\" 强制字体加载方案 \"\"\"\n",
    "        try:\n",
    "            cache_dir = mpl.get_cachedir()\n",
    "            if os.path.exists(cache_dir):\n",
    "                shutil.rmtree(cache_dir)\n",
    "        except Exception as e:\n",
    "            print(f\"缓存清理失败: {str(e)}\")\n",
    "        font_paths_to_try = [\n",
    "            'C:/Windows/Fonts/msyh.ttc', # 优先尝试微软雅黑\n",
    "            'C:/Windows/Fonts/simhei.ttf' # 备选黑体\n",
    "        ]\n",
    "        font_prop = None\n",
    "        # 尝试直接路径加载\n",
    "        for font_path in font_paths_to_try:\n",
    "            if os.path.exists(font_path):\n",
    "                try:\n",
    "                    font_prop = fm.FontProperties(fname=font_path)\n",
    "                    print(f\"成功加载字体: {font_path}\")\n",
    "                    break # 找到一个就停止\n",
    "                except Exception as e:\n",
    "                    print(f\"尝试加载 {font_path} 失败: {e}\")\n",
    "        # 如果直接路径失败，尝试系统查找\n",
    "        if font_prop is None:\n",
    "            print(\"直接路径加载字体失败，尝试系统查找...\")\n",
    "            try:\n",
    "                system_fonts = fm.findSystemFonts(fontpaths=None, fontext='ttf')\n",
    "                found_font_path = None\n",
    "                for fpath in system_fonts:\n",
    "                    fname_lower = os.path.basename(fpath).lower()\n",
    "                    if 'msyh' in fname_lower or 'microsoft yahei' in fname_lower:\n",
    "                        found_font_path = fpath\n",
    "                        print(f\"系统查找到微软雅黑: {fpath}\")\n",
    "                        break\n",
    "                    elif 'simhei' in fname_lower: # 如果没找到雅黑，尝试黑体\n",
    "                        found_font_path = fpath\n",
    "                        print(f\"系统查找到黑体: {fpath}\")\n",
    "                        # 不break，继续看有没有雅黑\n",
    "                if found_font_path:\n",
    "                    font_prop = fm.FontProperties(fname=found_font_path)\n",
    "                else:\n",
    "                    print(\"警告：系统中也未找到微软雅黑或黑体。\")\n",
    "            except Exception as e:\n",
    "                print(f\"系统字体查找失败: {e}\")\n",
    "        # 设置matplotlib全局字体\n",
    "        if font_prop:\n",
    "            mpl.rcParams['font.family'] = font_prop.get_name()\n",
    "            mpl.rcParams['axes.unicode_minus'] = False\n",
    "            print(f\"Matplotlib字体设置为: {font_prop.get_name()}\")\n",
    "        else:\n",
    "            # 如果最终都找不到，进行最后设置并警告\n",
    "            mpl.rcParams['axes.unicode_minus'] = False\n",
    "            print(\"警告：未能成功加载中文字体，图表中文可能显示为方框。将使用系统默认字体。\")\n",
    "        return font_prop # 返回加载的字体属性或None\n",
    "    try:\n",
    "        font_prop = set_chinese_font() # 执行字体设置\n",
    "    except Exception as e:\n",
    "        print(f\"字体加载过程中发生错误: {str(e)}\")\n",
    "        font_prop = None # 保证 font_prop 被定义\n",
    "    \n",
    "    # ================== 绘图核心逻辑 (处理空数据情况) ==================\n",
    "    fig, ax = plt.subplots(figsize=(14, 12))\n",
    "    # 设置绘图风格 (保留)\n",
    "    try:\n",
    "        plt.style.use('seaborn-v0_8-whitegrid')\n",
    "    except:\n",
    "        try:\n",
    "            plt.style.use('seaborn-whitegrid')\n",
    "        except:\n",
    "            print(\"使用默认样式\")\n",
    "    \n",
    "    if not is_empty_data:\n",
    "        # 有数据时的处理逻辑\n",
    "        # 绘制散点图\n",
    "        scatter = ax.scatter(\n",
    "            results['需求影响评分'],\n",
    "            results['社媒传播指数'],\n",
    "            s=np.sqrt(results['提及频率']) * 3000 + 100,\n",
    "            alpha=0.75,\n",
    "            c=results['综合得分'],\n",
    "            cmap='RdYlGn',\n",
    "            edgecolors='w',\n",
    "            linewidths=0.5\n",
    "        )\n",
    "        \n",
    "        # 确定坐标轴范围和中心点\n",
    "        x_min_data = results['需求影响评分'].min()\n",
    "        x_max_data = results['需求影响评分'].max()\n",
    "        y_min_data = results['社媒传播指数'].min()\n",
    "        y_max_data = results['社媒传播指数'].max()\n",
    "        \n",
    "        # 防止数据只有一个点时 padding 计算为0\n",
    "        x_range_data = x_max_data - x_min_data if x_max_data > x_min_data else 1.0\n",
    "        y_range_data = y_max_data - y_min_data if y_max_data > y_min_data else 1.0\n",
    "        \n",
    "        x_padding = x_range_data * 0.15\n",
    "        y_padding = y_range_data * 0.15\n",
    "        \n",
    "        ax.set_xlim(x_min_data - x_padding, x_max_data + x_padding)\n",
    "        ax.set_ylim(y_min_data - y_padding, y_max_data + y_padding)\n",
    "    else:\n",
    "        # 空数据时的处理逻辑\n",
    "        print(\"警告：数据为空，将创建不包含数据点的四象限图\")\n",
    "        # 设置默认坐标轴范围\n",
    "        ax.set_xlim(0, 1)\n",
    "        ax.set_ylim(0, 1)\n",
    "        \n",
    "        # 创建空的散点图但保留颜色条\n",
    "        scatter = ax.scatter([], [], c=[], cmap='RdYlGn', vmin=0, vmax=1)\n",
    "    \n",
    "    # 获取实际坐标轴范围\n",
    "    x_min_ax, x_max_ax = ax.get_xlim()\n",
    "    y_min_ax, y_max_ax = ax.get_ylim()\n",
    "    \n",
    "    # 计算图表中心点\n",
    "    x_middle = (x_min_ax + x_max_ax) / 2\n",
    "    y_middle = (y_min_ax + y_max_ax) / 2\n",
    "    \n",
    "    # 象限分配和Excel导出\n",
    "    print(f\"\\n根据图表中心点分配象限:\")\n",
    "    print(f\"X轴 ('需求影响评分') 中心点: {x_middle:.4f}\")\n",
    "    print(f\"Y轴 ('社媒传播指数') 中心点: {y_middle:.4f}\")\n",
    "    \n",
    "    # 定义象限名称\n",
    "    quadrant_names = {\n",
    "        1: '第一象限 (核心传播机会区)',\n",
    "        2: '第二象限 (市场教育区)',\n",
    "        3: '第三象限 (低关注潜力区)',\n",
    "        4: '第四象限 (潜在差异化区)'\n",
    "    }\n",
    "    \n",
    "    # 只在有数据时进行象限分配\n",
    "    if not is_empty_data:\n",
    "        conditions = [\n",
    "            (results['需求影响评分'] > x_middle) & (results['社媒传播指数'] > y_middle),\n",
    "            (results['需求影响评分'] <= x_middle) & (results['社媒传播指数'] > y_middle),\n",
    "            (results['需求影响评分'] <= x_middle) & (results['社媒传播指数'] <= y_middle),\n",
    "            (results['需求影响评分'] > x_middle) & (results['社媒传播指数'] <= y_middle)\n",
    "        ]\n",
    "        choices = [quadrant_names[1], quadrant_names[2], quadrant_names[3], quadrant_names[4]]\n",
    "        results['图表象限'] = np.select(conditions, choices, default='未分配')\n",
    "    \n",
    "    # 定义输出路径和文件名\n",
    "    outdir = '生成结果/last_quadrant/'\n",
    "    excel_filename = 'plot_quadrant_data_需求.xlsx'\n",
    "    excel_save_path = os.path.join(outdir, excel_filename)\n",
    "    \n",
    "    # 确保目录存在\n",
    "    os.makedirs(outdir, exist_ok=True)\n",
    "    \n",
    "    # 导出包含所有原始列和新图表象限列的DataFrame\n",
    "    try:\n",
    "        results.to_excel(excel_save_path, index=False)\n",
    "        print(f\"已将{'空' if is_empty_data else '包含图表象限的'}数据导出至: {excel_save_path}\")\n",
    "    except Exception as e:\n",
    "        print(f\"导出Excel文件失败: {e}\")\n",
    "    \n",
    "    # 绘制中心分割线\n",
    "    ax.axvline(x=x_middle, color='#666666', linestyle=':', linewidth=1.5, alpha=0.9)\n",
    "    ax.axhline(y=y_middle, color='#666666', linestyle=':', linewidth=1.5, alpha=0.9)\n",
    "    \n",
    "    # 添加象限文本标注\n",
    "    def add_quadrant_text(x_pos, y_pos, text):\n",
    "        \"\"\" 统一文本标注样式 \"\"\"\n",
    "        text_kwargs = {\n",
    "            'ha': 'center', 'va': 'center',\n",
    "            'bbox': dict(boxstyle='round,pad=0.5', facecolor='#FFFFFFDD', edgecolor='#80808080', linewidth=0.8),\n",
    "            'fontsize': 11\n",
    "        }\n",
    "        if font_prop:\n",
    "            text_kwargs['fontproperties'] = font_prop\n",
    "        ax.text(x_pos, y_pos, text, **text_kwargs)\n",
    "    \n",
    "    x_range = x_max_ax - x_min_ax\n",
    "    y_range = y_max_ax - y_min_ax\n",
    "    q1_x = x_middle + x_range * 0.25\n",
    "    q1_y = y_middle + y_range * 0.25\n",
    "    q2_x = x_middle - x_range * 0.25\n",
    "    q2_y = y_middle + y_range * 0.25\n",
    "    q3_x = x_middle - x_range * 0.25\n",
    "    q3_y = y_middle - y_range * 0.25\n",
    "    q4_x = x_middle + x_range * 0.25\n",
    "    q4_y = y_middle - y_range * 0.25\n",
    "    \n",
    "    # 添加象限文本\n",
    "    add_quadrant_text(q1_x, q1_y, '第一象限\\n核心传播机会区\\n(高需求 + 高传播)')\n",
    "    add_quadrant_text(q2_x, q2_y, '第二象限\\n市场教育区\\n(低需求 + 高传播)')\n",
    "    add_quadrant_text(q3_x, q3_y, '第三象限\\n低关注潜力区\\n(低需求 + 低传播)')\n",
    "    add_quadrant_text(q4_x, q4_y, '第四象限\\n潜在差异化区\\n(高需求 + 低传播)')\n",
    "    \n",
    "    # 只有在有数据时才执行标签布局\n",
    "    if not is_empty_data:\n",
    "        # 定义标签布局函数 (保持原函数不变)\n",
    "        def optimized_quadrant_label_layout(df, ax, x_col, y_col, label_col, font_prop):\n",
    "            # (此函数内容保持不变，与原始代码相同)\n",
    "            x_min, x_max = ax.get_xlim()\n",
    "            y_min, y_max = ax.get_ylim()\n",
    "            x_middle = (x_min + x_max) / 2\n",
    "            y_middle = (y_min + y_max) / 2\n",
    "            q1 = df[(df[x_col] > x_middle) & (df[y_col] > y_middle)].copy()\n",
    "            q2 = df[(df[x_col] <= x_middle) & (df[y_col] > y_middle)].copy()\n",
    "            q3 = df[(df[x_col] <= x_middle) & (df[y_col] <= y_middle)].copy()\n",
    "            q4 = df[(df[x_col] > x_middle) & (df[y_col] <= y_middle)].copy()\n",
    "            quadrant_config = {\n",
    "                'q1': {'base_angle': np.pi/4, 'angle_range': np.pi/2, 'placed_labels': []},\n",
    "                'q2': {'base_angle': 3*np.pi/4, 'angle_range': np.pi/2, 'placed_labels': []},\n",
    "                'q3': {'base_angle': 5*np.pi/4, 'angle_range': np.pi/2, 'placed_labels': []},\n",
    "                'q4': {'base_angle': 7*np.pi/4, 'angle_range': np.pi/2, 'placed_labels': []}\n",
    "            }\n",
    "            for quadrant, data in zip(['q1', 'q2', 'q3', 'q4'], [q1, q2, q3, q4]):\n",
    "                data_sorted = data.sort_values('综合得分', ascending=False)\n",
    "                config = quadrant_config[quadrant]\n",
    "                base_angle = config['base_angle']\n",
    "                angle_range = config['angle_range']\n",
    "                placed_labels = config['placed_labels']\n",
    "                if quadrant == 'q1': max_offset = min(x_max - x_middle, y_max - y_middle) * 0.8\n",
    "                elif quadrant == 'q2': max_offset = min(x_middle - x_min, y_max - y_middle) * 0.8\n",
    "                elif quadrant == 'q3': max_offset = min(x_middle - x_min, y_middle - y_min) * 0.8\n",
    "                else: max_offset = min(x_max - x_middle, y_middle - y_min) * 0.8\n",
    "                for idx, row in data_sorted.iterrows():\n",
    "                    x, y = row[x_col], row[y_col]\n",
    "                    label = row[label_col]\n",
    "                    text_width = len(str(label)) * 5 + 10\n",
    "                    text_height = 20\n",
    "                    angles = [base_angle - angle_range/2 + i*angle_range/(6-1) for i in range(6)]\n",
    "                    best_pos = None\n",
    "                    best_dist = float('inf')\n",
    "                    for angle in angles:\n",
    "                        for distance_factor in np.linspace(0.2, 1.0, 8):\n",
    "                            distance = max_offset * distance_factor\n",
    "                            dx, dy = np.cos(angle) * distance, np.sin(angle) * distance\n",
    "                            label_x, label_y = x + dx, y + dy\n",
    "                            if (label_x - text_width/2 < x_min or label_x + text_width/2 > x_max or\n",
    "                                label_y - text_height/2 < y_min or label_y + text_height/2 > y_max):\n",
    "                                continue\n",
    "                            overlap = False\n",
    "                            for px, py, pw, ph in placed_labels:\n",
    "                                rect1 = (label_x-text_width/2, label_y-text_height/2, text_width, text_height)\n",
    "                                rect2 = (px-pw/2, py-ph/2, pw, ph)\n",
    "                                if not (rect1[0] + rect1[2] < rect2[0] or rect1[0] > rect2[0] + rect2[2] or\n",
    "                                        rect1[1] + rect1[3] < rect2[1] or rect1[1] > rect2[1] + rect2[3]):\n",
    "                                    overlap = True\n",
    "                                    break\n",
    "                            if not overlap:\n",
    "                                point_dist = np.sqrt(dx**2 + dy**2)\n",
    "                                if best_pos is None or point_dist < best_dist:\n",
    "                                    best_pos = (label_x, label_y, dx, dy)\n",
    "                                    best_dist = point_dist\n",
    "                    annotate_kwargs = {\n",
    "                        'fontsize': 9, 'ha': 'center', 'va': 'center',\n",
    "                        'arrowprops': dict(arrowstyle='-|>', color='#404040', linewidth=0.7, alpha=0.8),\n",
    "                        'bbox': dict(boxstyle='round,pad=0.3', facecolor='#FFFFFFDD', edgecolor='#AAAAAA', alpha=0.7)\n",
    "                    }\n",
    "                    if font_prop:\n",
    "                        annotate_kwargs['fontproperties'] = font_prop\n",
    "                    if best_pos is not None:\n",
    "                        label_x, label_y, dx, dy = best_pos\n",
    "                        ax.annotate(text=label, xy=(x, y), xytext=(label_x, label_y), **annotate_kwargs)\n",
    "                        placed_labels.append((label_x, label_y, text_width, text_height))\n",
    "                    else:\n",
    "                        angle = base_angle\n",
    "                        distance = max_offset * 0.3\n",
    "                        label_x = x + np.cos(angle) * distance\n",
    "                        label_y = y + np.sin(angle) * distance\n",
    "                        ax.annotate(text=label, xy=(x, y), xytext=(label_x, label_y), **annotate_kwargs)\n",
    "                        placed_labels.append((label_x, label_y, text_width, text_height))\n",
    "        \n",
    "        # 执行标签布局\n",
    "        optimized_quadrant_label_layout(\n",
    "            results, ax,\n",
    "            x_col='需求影响评分',\n",
    "            y_col='社媒传播指数',\n",
    "            label_col='需求名称',\n",
    "            font_prop=font_prop\n",
    "        )\n",
    "    \n",
    "    # 坐标轴标签和标题\n",
    "    label_kwargs = {'fontsize': 14, 'labelpad': 12}\n",
    "    title_kwargs = {'fontsize': 16, 'pad': 20}\n",
    "    if font_prop:\n",
    "        label_kwargs['fontproperties'] = font_prop\n",
    "        title_kwargs['fontproperties'] = font_prop\n",
    "    \n",
    "    ax.set_xlabel('需求影响评分', **label_kwargs)\n",
    "    ax.set_ylabel('社媒传播指数', **label_kwargs)\n",
    "    ax.set_title('未被满足的需求-消费者洞察四象限分析', **title_kwargs)\n",
    "    \n",
    "    # 颜色条设置\n",
    "    cbar_label_kwargs = {'fontsize': 12}\n",
    "    if font_prop:\n",
    "        cbar_label_kwargs['fontproperties'] = font_prop\n",
    "    cbar = fig.colorbar(scatter, ax=ax, pad=0.02)\n",
    "    cbar.set_label('综合得分', **cbar_label_kwargs)\n",
    "    \n",
    "    # 输出设置\n",
    "    ax.grid(True, linestyle='--', alpha=0.6)\n",
    "    fig.tight_layout()\n",
    "    \n",
    "    # 保存图表文件\n",
    "    png_filename = 'need_quadrant_analysis.png'\n",
    "    png_save_path = os.path.join(outdir, png_filename)\n",
    "    fig.savefig(png_save_path, dpi=300, bbox_inches='tight', facecolor='white')\n",
    "    print(f\"分析图已保存至: {png_save_path}\")\n",
    "    \n",
    "    # 显示图表\n",
    "    try:\n",
    "        plt.show()\n",
    "    except Exception as e:\n",
    "        print(f\"显示图表时出错 (可能是非交互环境): {e}\")\n",
    "        print(\"图表已保存至文件。\")"
   ]
  },
  {
   "cell_type": "code",
   "execution_count": 11,
   "metadata": {
    "execution": {
     "iopub.execute_input": "2025-04-18T05:13:52.288130Z",
     "iopub.status.busy": "2025-04-18T05:13:52.288130Z",
     "iopub.status.idle": "2025-04-18T05:13:52.303229Z",
     "shell.execute_reply": "2025-04-18T05:13:52.303229Z"
    }
   },
   "outputs": [],
   "source": [
    "# # --- 调用代码 (修改读取的文件名，与用户代码一致) ---\n",
    "# try:\n",
    "#     # 读取包含“需求”计算结果的Excel文件\n",
    "#     excel_path_input = os.path.join('生成结果/last_quadrant/','四象限数据-需求.xlsx') # <--- 修改: 读取对应的需求数据文件 (来自用户代码)\n",
    "#     results = pd.read_excel(excel_path_input)\n",
    "\n",
    "#     # 调用绘图函数，它会完成象限分配、Excel导出和绘图\n",
    "#     plot_quadrant_chart(results) # <--- 保留\n",
    "\n",
    "# except FileNotFoundError:\n",
    "#     print(f\"错误：无法读取输入的 Excel 文件 '{excel_path_input}'。请确保文件存在或先运行计算步骤。\")\n",
    "# except KeyError as e:\n",
    "#     print(f\"错误：输入的 DataFrame 缺少必要的列: {e}。请检查 '{excel_path_input}' 文件内容或计算步骤。\")\n",
    "# except Exception as e:\n",
    "#     print(f\"执行过程中发生未知错误: {e}\")"
   ]
  },
  {
   "cell_type": "code",
   "execution_count": 12,
   "metadata": {
    "execution": {
     "iopub.execute_input": "2025-04-18T05:13:52.303229Z",
     "iopub.status.busy": "2025-04-18T05:13:52.303229Z",
     "iopub.status.idle": "2025-04-18T05:13:55.837546Z",
     "shell.execute_reply": "2025-04-18T05:13:55.837546Z"
    }
   },
   "outputs": [
    {
     "name": "stdout",
     "output_type": "stream",
     "text": [
      "成功读取数据，共 80 条记录。\n",
      "成功加载字体: C:/Windows/Fonts/msyh.ttc\n",
      "Matplotlib字体设置为: Microsoft YaHei\n",
      "\n",
      "根据图表中心点分配象限:\n",
      "X轴 ('需求影响评分') 中心点: 0.3084\n",
      "Y轴 ('社媒传播指数') 中心点: 0.4250\n",
      "已将包含图表象限的数据导出至: 生成结果/last_quadrant/plot_quadrant_data_需求.xlsx\n"
     ]
    },
    {
     "name": "stdout",
     "output_type": "stream",
     "text": [
      "分析图已保存至: 生成结果/last_quadrant/need_quadrant_analysis.png\n"
     ]
    },
    {
     "data": {
      "image/png": "[encoded data removed]",
      "text/plain": [
       "<Figure size 1400x1200 with 2 Axes>"
      ]
     },
     "metadata": {},
     "output_type": "display_data"
    }
   ],
   "source": [
    "# --- 调用代码 ---\n",
    "try:\n",
    "    # 读取包含\"需求\"计算结果的Excel文件\n",
    "    excel_path_input = os.path.join('生成结果/last_quadrant/','四象限数据-需求.xlsx')\n",
    "    \n",
    "    if not os.path.exists(excel_path_input):\n",
    "        print(f\"输入文件不存在: {excel_path_input}，可能是因为VOC数据为空\")\n",
    "        # 在文件不存在的情况下，创建空的DataFrame用于绘图\n",
    "        empty_df = pd.DataFrame(columns=[\n",
    "            '象限', '排名', '需求名称', '重要性分数', '提及频率', \n",
    "            '文本质量', '最终得分', '综合得分', '需求影响评分', '社媒传播指数'\n",
    "        ])\n",
    "        # 直接调用绘图函数\n",
    "        plot_quadrant_chart(empty_df)\n",
    "    else:\n",
    "        # 正常读取数据并生成图表\n",
    "        results = pd.read_excel(excel_path_input)\n",
    "        print(f\"成功读取数据，共 {len(results)} 条记录。\")\n",
    "        \n",
    "        # 检查是否有实际数据点\n",
    "        if len(results) == 0:\n",
    "            print(\"警告：Excel文件存在但不包含任何数据行\")\n",
    "        \n",
    "        # 调用绘图函数\n",
    "        plot_quadrant_chart(results)\n",
    "        \n",
    "except Exception as e:\n",
    "    print(f\"执行过程中发生未知错误: {e}\")\n",
    "    import traceback\n",
    "    traceback.print_exc()\n",
    "    \n",
    "    # 尝试创建空白图表作为后备方案\n",
    "    print(\"尝试创建空白四象限图...\")\n",
    "    empty_df = pd.DataFrame(columns=[\n",
    "        '象限', '排名', '需求名称', '重要性分数', '提及频率', \n",
    "        '文本质量', '最终得分', '综合得分', '需求影响评分', '社媒传播指数'\n",
    "    ])\n",
    "    try:\n",
    "        plot_quadrant_chart(empty_df)\n",
    "    except:\n",
    "        print(\"创建空白图表失败\")"
   ]
  },
  {
   "cell_type": "code",
   "execution_count": null,
   "metadata": {},
   "outputs": [],
   "source": []
  }
 ],
 "metadata": {
  "kernelspec": {
   "display_name": "Lynx",
   "language": "python",
   "name": "lynx"
  },
  "language_info": {
   "codemirror_mode": {
    "name": "ipython",
    "version": 3
   },
   "file_extension": ".py",
   "mimetype": "text/x-python",
   "name": "python",
   "nbconvert_exporter": "python",
   "pygments_lexer": "ipython3",
   "version": "3.10.16"
  }
 },
 "nbformat": 4,
 "nbformat_minor": 4
}
