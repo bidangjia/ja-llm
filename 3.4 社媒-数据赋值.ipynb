{
 "cells": [
  {
   "cell_type": "markdown",
   "id": "a1694c48-c62a-458a-906f-a6c5efea0098",
   "metadata": {},
   "source": [
    "## 读取markdown文件中理论假设的内容，提取关键词，以方便后续赋值"
   ]
  },
  {
   "cell_type": "code",
   "execution_count": 1,
   "id": "1cafde56-dc8a-4c0b-9334-27813c2bed8a",
   "metadata": {
    "execution": {
     "iopub.execute_input": "2025-04-15T10:45:18.428546Z",
     "iopub.status.busy": "2025-04-15T10:45:18.428546Z",
     "iopub.status.idle": "2025-04-15T10:45:18.714627Z",
     "shell.execute_reply": "2025-04-15T10:45:18.714627Z"
    }
   },
   "outputs": [],
   "source": [
    "import pandas as pd\n",
    "import re\n",
    "import os\n",
    "import numpy as np\n",
    "from IPython.display import display"
   ]
  },
  {
   "cell_type": "code",
   "execution_count": 2,
   "id": "b9e17a4e-1f63-4ded-a5aa-524f689979aa",
   "metadata": {
    "execution": {
     "iopub.execute_input": "2025-04-15T10:45:18.714627Z",
     "iopub.status.busy": "2025-04-15T10:45:18.714627Z",
     "iopub.status.idle": "2025-04-15T10:45:18.729646Z",
     "shell.execute_reply": "2025-04-15T10:45:18.729646Z"
    }
   },
   "outputs": [
    {
     "name": "stdout",
     "output_type": "stream",
     "text": [
      "提取的文件夹名: 生成结果/social_media/\n"
     ]
    }
   ],
   "source": [
    "# Asin_List_file = \"旅行包-机会款式.xlsx\" \n",
    "\n",
    "# # 文件和目录的设置\n",
    "# input_file = Asin_List_file  # 这实际上是Excel文件\n",
    "\n",
    "# # 从Excel文件名中提取基础文件夹名称\n",
    "# folder_name = os.path.splitext(input_file)[0]\n",
    "\n",
    "folder_name = '生成结果/social_media/'\n",
    "print(f\"提取的文件夹名: {folder_name}\")\n",
    "\n",
    "# 创建文件夹（如果不存在）\n",
    "# if not os.path.exists(folder_name):\n",
    "#     os.makedirs(folder_name)\n",
    "#     print(f\"已创建文件夹: {folder_name}\")\n"
   ]
  },
  {
   "cell_type": "code",
   "execution_count": 3,
   "id": "df960394-f463-42d6-ac68-5567dad85cee",
   "metadata": {
    "execution": {
     "iopub.execute_input": "2025-04-15T10:45:18.729646Z",
     "iopub.status.busy": "2025-04-15T10:45:18.729646Z",
     "iopub.status.idle": "2025-04-15T10:45:18.745149Z",
     "shell.execute_reply": "2025-04-15T10:45:18.745149Z"
    }
   },
   "outputs": [
    {
     "name": "stdout",
     "output_type": "stream",
     "text": [
      "提取的文件夹名: 生成结果/social_media/\n"
     ]
    }
   ],
   "source": [
    "# Asin_List_file = \"旅行包-机会款式.xlsx\" \n",
    "\n",
    "# # 文件和目录的设置\n",
    "# input_file = Asin_List_file  # 这实际上是Excel文件\n",
    "\n",
    "# # 从Excel文件名中提取基础文件夹名称\n",
    "# folder_name = os.path.splitext(input_file)[0]\n",
    "\n",
    "folder_name = '生成结果/social_media/'\n",
    "print(f\"提取的文件夹名: {folder_name}\")\n",
    "\n",
    "# 创建文件夹（如果不存在）\n",
    "# if not os.path.exists(folder_name):\n",
    "#     os.makedirs(folder_name)\n",
    "#     print(f\"已创建文件夹: {folder_name}\")\n"
   ]
  },
  {
   "cell_type": "code",
   "execution_count": 4,
   "id": "a505351e-41ec-446c-a272-d362e89c17d1",
   "metadata": {
    "execution": {
     "iopub.execute_input": "2025-04-15T10:45:18.745149Z",
     "iopub.status.busy": "2025-04-15T10:45:18.745149Z",
     "iopub.status.idle": "2025-04-15T10:45:18.775840Z",
     "shell.execute_reply": "2025-04-15T10:45:18.775840Z"
    }
   },
   "outputs": [
    {
     "name": "stdout",
     "output_type": "stream",
     "text": [
      "已成功从Markdown提取表格，包含30行和10列\n",
      "\n",
      "提取的DataFrame头部:\n"
     ]
    },
    {
     "data": {
      "text/html": [
       "<div>\n",
       "<style scoped>\n",
       "    .dataframe tbody tr th:only-of-type {\n",
       "        vertical-align: middle;\n",
       "    }\n",
       "\n",
       "    .dataframe tbody tr th {\n",
       "        vertical-align: top;\n",
       "    }\n",
       "\n",
       "    .dataframe thead th {\n",
       "        text-align: right;\n",
       "    }\n",
       "</style>\n",
       "<table border=\"1\" class=\"dataframe\">\n",
       "  <thead>\n",
       "    <tr style=\"text-align: right;\">\n",
       "      <th></th>\n",
       "      <th>序号</th>\n",
       "      <th>变量名称</th>\n",
       "      <th>数据字段描述</th>\n",
       "      <th>关键词列表</th>\n",
       "      <th>数据平台（待定）</th>\n",
       "      <th>理论定义</th>\n",
       "      <th>变量所在假设</th>\n",
       "      <th>调节/背景因素</th>\n",
       "      <th>变量类型</th>\n",
       "      <th>消费者旅程阶段</th>\n",
       "    </tr>\n",
       "  </thead>\n",
       "  <tbody>\n",
       "    <tr>\n",
       "      <th>0</th>\n",
       "      <td>1</td>\n",
       "      <td>安全性需求表达</td>\n",
       "      <td>内容中包含对鞋架安全性的关注表达</td>\n",
       "      <td>safety, stable, sturdy, secure, tipping, wobbl...</td>\n",
       "      <td>Twitter, Reddit, Instagram, Facebook</td>\n",
       "      <td>消费者对产品稳定性、防倾倒和整体安全性能的关注程度</td>\n",
       "      <td>H1, H5</td>\n",
       "      <td>家庭结构、有无儿童/宠物</td>\n",
       "      <td>IV</td>\n",
       "      <td>认知/意识</td>\n",
       "    </tr>\n",
       "    <tr>\n",
       "      <th>1</th>\n",
       "      <td>2</td>\n",
       "      <td>互动量-安全性相关</td>\n",
       "      <td>安全性相关内容的interaction_like_count, interaction_co...</td>\n",
       "      <td>与安全性需求表达关键词相关的互动指标</td>\n",
       "      <td>Twitter, Reddit, Instagram, Facebook</td>\n",
       "      <td>消费者对安全性相关内容的互动响应程度</td>\n",
       "      <td>H1, H5</td>\n",
       "      <td>家庭结构、居住环境</td>\n",
       "      <td>DV</td>\n",
       "      <td>兴趣/考虑</td>\n",
       "    </tr>\n",
       "    <tr>\n",
       "      <th>2</th>\n",
       "      <td>3</td>\n",
       "      <td>空间效率表达</td>\n",
       "      <td>内容中对鞋架空间节省、容量的讨论</td>\n",
       "      <td>space-saving, compact, small space, apartment,...</td>\n",
       "      <td>Twitter, Reddit, Instagram, Facebook</td>\n",
       "      <td>消费者对鞋架空间利用效率的重视程度</td>\n",
       "      <td>H2, H23</td>\n",
       "      <td>居住空间大小、住房类型</td>\n",
       "      <td>IV</td>\n",
       "      <td>认知/意识</td>\n",
       "    </tr>\n",
       "    <tr>\n",
       "      <th>3</th>\n",
       "      <td>4</td>\n",
       "      <td>分享行为-空间效率</td>\n",
       "      <td>空间效率相关内容的interaction_share_count, interaction_...</td>\n",
       "      <td>与空间效率表达关键词相关的分享指标</td>\n",
       "      <td>Twitter, Reddit, Instagram, Facebook</td>\n",
       "      <td>消费者分享空间效率相关内容的频率和强度</td>\n",
       "      <td>H2, H23</td>\n",
       "      <td>居住空间大小、城市化程度</td>\n",
       "      <td>DV</td>\n",
       "      <td>倡导/推荐</td>\n",
       "    </tr>\n",
       "    <tr>\n",
       "      <th>4</th>\n",
       "      <td>5</td>\n",
       "      <td>环保材质偏好</td>\n",
       "      <td>内容中对环保材质的讨论和偏好</td>\n",
       "      <td>eco-friendly, sustainable, recycled, natural, ...</td>\n",
       "      <td>Twitter, Reddit, Instagram, Facebook</td>\n",
       "      <td>消费者对环保材质的关注程度和偏好强度</td>\n",
       "      <td>H3</td>\n",
       "      <td>消费者环保价值观</td>\n",
       "      <td>IV</td>\n",
       "      <td>评估/比较</td>\n",
       "    </tr>\n",
       "  </tbody>\n",
       "</table>\n",
       "</div>"
      ],
      "text/plain": [
       "  序号       变量名称                                             数据字段描述  \\\n",
       "0  1    安全性需求表达                                   内容中包含对鞋架安全性的关注表达   \n",
       "1  2  互动量-安全性相关  安全性相关内容的interaction_like_count, interaction_co...   \n",
       "2  3     空间效率表达                                   内容中对鞋架空间节省、容量的讨论   \n",
       "3  4  分享行为-空间效率  空间效率相关内容的interaction_share_count, interaction_...   \n",
       "4  5     环保材质偏好                                     内容中对环保材质的讨论和偏好   \n",
       "\n",
       "                                               关键词列表  \\\n",
       "0  safety, stable, sturdy, secure, tipping, wobbl...   \n",
       "1                                 与安全性需求表达关键词相关的互动指标   \n",
       "2  space-saving, compact, small space, apartment,...   \n",
       "3                                  与空间效率表达关键词相关的分享指标   \n",
       "4  eco-friendly, sustainable, recycled, natural, ...   \n",
       "\n",
       "                               数据平台（待定）                       理论定义   变量所在假设  \\\n",
       "0  Twitter, Reddit, Instagram, Facebook  消费者对产品稳定性、防倾倒和整体安全性能的关注程度   H1, H5   \n",
       "1  Twitter, Reddit, Instagram, Facebook         消费者对安全性相关内容的互动响应程度   H1, H5   \n",
       "2  Twitter, Reddit, Instagram, Facebook          消费者对鞋架空间利用效率的重视程度  H2, H23   \n",
       "3  Twitter, Reddit, Instagram, Facebook        消费者分享空间效率相关内容的频率和强度  H2, H23   \n",
       "4  Twitter, Reddit, Instagram, Facebook         消费者对环保材质的关注程度和偏好强度       H3   \n",
       "\n",
       "        调节/背景因素 变量类型 消费者旅程阶段  \n",
       "0  家庭结构、有无儿童/宠物   IV   认知/意识  \n",
       "1     家庭结构、居住环境   DV   兴趣/考虑  \n",
       "2   居住空间大小、住房类型   IV   认知/意识  \n",
       "3  居住空间大小、城市化程度   DV   倡导/推荐  \n",
       "4      消费者环保价值观   IV   评估/比较  "
      ]
     },
     "metadata": {},
     "output_type": "display_data"
    }
   ],
   "source": [
    "def extract_markdown_table(markdown_file):\n",
    "    \"\"\"\n",
    "    从Markdown文件中提取表格内容并转换为DataFrame\n",
    "    \n",
    "    参数:\n",
    "    markdown_file - Markdown文件路径\n",
    "    \n",
    "    返回:\n",
    "    pandas DataFrame - 包含表格内容的数据框\n",
    "    \"\"\"\n",
    "    # 读取Markdown文件内容\n",
    "    with open(markdown_file, 'r', encoding='utf-8') as file:\n",
    "        content = file.read()\n",
    "    \n",
    "    # 按行分割内容\n",
    "    lines = content.strip().split('\\n')\n",
    "    \n",
    "    # 找到表格行（以|开始和结束的行）\n",
    "    table_lines = []\n",
    "    in_table = False\n",
    "    \n",
    "    for line in lines:\n",
    "        line = line.strip()\n",
    "        if line.startswith('|') and line.endswith('|'):\n",
    "            if not in_table:\n",
    "                in_table = True\n",
    "                table_lines = []\n",
    "            table_lines.append(line)\n",
    "        elif in_table and not line:\n",
    "            # 表格结束，找到了一个完整表格\n",
    "            break\n",
    "    \n",
    "    if not table_lines:\n",
    "        raise ValueError(\"未在Markdown文件中找到表格内容\")\n",
    "    \n",
    "    # 解析表格内容\n",
    "    rows = []\n",
    "    for line in table_lines:\n",
    "        # 分割行并移除前后的|\n",
    "        cells = line.strip().split('|')[1:-1]\n",
    "        # 清理每个单元格内容\n",
    "        cells = [cell.strip() for cell in cells]\n",
    "        rows.append(cells)\n",
    "    \n",
    "    # 第一行是表头\n",
    "    headers = rows[0]\n",
    "    \n",
    "    # 跳过表头和分隔行(通常是第二行，包含 ---|--- 类似内容)\n",
    "    data_rows = rows[2:] if len(rows) > 2 else []\n",
    "    \n",
    "    # 创建DataFrame\n",
    "    df = pd.DataFrame(data_rows, columns=headers)\n",
    "    \n",
    "    print(f\"已成功从Markdown提取表格，包含{len(df)}行和{len(df.columns)}列\")\n",
    "    \n",
    "    return df\n",
    "\n",
    "# 使用示例\n",
    "# 假设Markdown文件路径\n",
    "markdown_file = os.path.join(folder_name, '理论假设.md')\n",
    "\n",
    "# 检查文件是否存在\n",
    "if os.path.exists(markdown_file):\n",
    "    # 从Markdown文件提取表格\n",
    "    variables_df = extract_markdown_table(markdown_file)\n",
    "    \n",
    "    # 显示提取的DataFrame\n",
    "    print(\"\\n提取的DataFrame头部:\")\n",
    "    display(variables_df.head())\n",
    "else:\n",
    "    print(f\"文件 {markdown_file} 不存在，请提供正确的文件路径\")"
   ]
  },
  {
   "cell_type": "markdown",
   "id": "a5d5f9ca-0c3c-49d1-9ee2-41e829ef7a4b",
   "metadata": {},
   "source": [
    "## 提取关键词列表"
   ]
  },
  {
   "cell_type": "code",
   "execution_count": 5,
   "id": "905bb99d-8a14-42b8-8a38-ce1a7caa4a1b",
   "metadata": {
    "execution": {
     "iopub.execute_input": "2025-04-15T10:45:18.775840Z",
     "iopub.status.busy": "2025-04-15T10:45:18.775840Z",
     "iopub.status.idle": "2025-04-15T10:45:18.791035Z",
     "shell.execute_reply": "2025-04-15T10:45:18.791035Z"
    }
   },
   "outputs": [
    {
     "name": "stdout",
     "output_type": "stream",
     "text": [
      "提取的变量关键词:\n",
      "安全性需求表达: ['safety', 'stable', 'sturdy', 'secure', 'tipping', 'wobble', 'fall']\n",
      "互动量-安全性相关: ['与安全性需求表达关键词相关的互动指标']\n",
      "空间效率表达: ['space-saving', 'compact', 'small space', 'apartment', 'organize', 'clutter']\n",
      "分享行为-空间效率: ['与空间效率表达关键词相关的分享指标']\n",
      "环保材质偏好: ['eco-friendly', 'sustainable', 'recycled', 'natural', 'environmentally', 'bamboo']\n",
      "环保价值观表达: ['green living', 'sustainability', 'eco-conscious', 'planet', 'environment']\n",
      "组装便捷性表达: ['easy assembly', 'instructions', 'setup', 'put together', 'tools', 'DIY']\n",
      "正面评价-组装体验: ['与组装便捷性表达关键词相关的正面情感评价']\n",
      "设计美感表达: ['stylish', 'modern', 'sleek', 'beautiful', 'design', 'aesthetic', 'look', 'decor']\n",
      "分享行为-设计美感: ['与设计美感表达关键词相关的分享指标']\n",
      "层高可调节性表达: ['adjustable', 'flexible', 'customizable', 'height', 'shelves', 'layers']\n",
      "互动参与度-可调节性: ['与层高可调节性表达关键词相关的互动指标综合']\n",
      "防尘功能表达: ['dust', 'cover', 'protection', 'clean', 'dirt', 'dustproof']\n",
      "互动量-有儿童家庭: ['与防尘功能表达关键词相关的互动指标(来自有儿童家庭用户)']\n",
      "价格表达: ['price', 'cost', 'expensive', 'cheap', 'affordable', 'value', 'worth', 'budget']\n",
      "家庭收入水平表达: ['luxury', 'budget', 'affordable', 'high-end', 'investment', 'splurge']\n",
      "多功能性表达: ['multifunctional', 'bench', 'seating', 'storage', 'versatile', 'bonus']\n",
      "评论互动-多功能性: ['与多功能性表达关键词相关的评论指标']\n",
      "便携性表达: ['portable', 'movable', 'lightweight', 'easy to move', 'relocate']\n",
      "居住流动性表达: ['moving', 'new apartment', 'relocation', 'temporary', 'college dorm']\n",
      "承重能力表达: ['weight capacity', 'sturdy', 'heavy', 'boots', 'collapse', 'durable']\n",
      "耐用性表达: ['durable', 'long-lasting', 'quality', 'sturdy', 'solid', 'construction']\n",
      "长期满意度表达: ['still works', 'years later', 'holding up', 'lasted', 'recommend']\n",
      "颜色选择表达: ['color options', 'match', 'decor', 'interior', 'style', 'blend', 'aesthetic']\n",
      "季节适应性表达: ['seasonal', 'winter boots', 'sandals', 'different seasons', 'versatile']\n",
      "品牌声誉表达: ['brand', 'reputation', 'known for', 'quality', 'trusted', 'recommended']\n",
      "消费者信任度表达: ['trust', 'reliable', 'consistent', 'dependable', 'believe in']\n",
      "创新功能表达: ['innovative', 'smart', 'unique', 'tech', 'modern features', 'clever']\n",
      "儿童友好设计表达: ['kid-friendly', 'child height', 'easy use', 'children', 'little ones']\n",
      "组合灵活性表达: ['modular', 'expandable', 'combination', 'add-on', 'configure', 'rearrange']\n",
      "\n",
      "共提取了 30 个变量名称\n"
     ]
    }
   ],
   "source": [
    "# 创建变量信息字典和变量名称列表\n",
    "variable_keywords = {}\n",
    "variable_names = []  # 存储所有变量名称的列表\n",
    "\n",
    "# 从DataFrame中提取变量名称和对应的关键词列表\n",
    "for _, row in variables_df.iterrows():\n",
    "    var_name = row['变量名称']\n",
    "    keyword_text = row['关键词列表']\n",
    "    \n",
    "    # 跳过非法行\n",
    "    if not isinstance(keyword_text, str):\n",
    "        continue\n",
    "    \n",
    "    # 按逗号分割关键词并去除空格\n",
    "    keywords = [kw.strip() for kw in keyword_text.split(',')]\n",
    "    \n",
    "    # 保存到字典和列表\n",
    "    if keywords:\n",
    "        variable_keywords[var_name] = keywords\n",
    "        variable_names.append(var_name)  # 添加到变量名称列表\n",
    "\n",
    "# 显示提取的关键词\n",
    "print(\"提取的变量关键词:\")\n",
    "for var_name, keywords in variable_keywords.items():\n",
    "    print(f\"{var_name}: {keywords}\")\n",
    "\n",
    "print(f\"\\n共提取了 {len(variable_names)} 个变量名称\")"
   ]
  },
  {
   "cell_type": "code",
   "execution_count": 6,
   "id": "b44cda8d-0e1e-4361-811f-d44510c68049",
   "metadata": {
    "execution": {
     "iopub.execute_input": "2025-04-15T10:45:18.791035Z",
     "iopub.status.busy": "2025-04-15T10:45:18.791035Z",
     "iopub.status.idle": "2025-04-15T10:45:22.527272Z",
     "shell.execute_reply": "2025-04-15T10:45:22.527272Z"
    }
   },
   "outputs": [],
   "source": [
    "# 加载数据文件\n",
    "import pandas as pd\n",
    "import re\n",
    "import unicodedata\n",
    "from tqdm import tqdm\n",
    "import spacy\n",
    "from transformers import AutoTokenizer, AutoModel\n",
    "import torch\n",
    "from sklearn.metrics.pairwise import cosine_similarity\n",
    "import numpy as np"
   ]
  },
  {
   "cell_type": "markdown",
   "id": "9581395e-8e86-43a1-a528-297598cf5f16",
   "metadata": {},
   "source": [
    "## 使用预训练模型来进行赋值，为0,1二分变量"
   ]
  },
  {
   "cell_type": "code",
   "execution_count": 7,
   "id": "90357362-08b6-42e3-8e2c-de6ba5988ee9",
   "metadata": {
    "execution": {
     "iopub.execute_input": "2025-04-15T10:45:22.527272Z",
     "iopub.status.busy": "2025-04-15T10:45:22.527272Z",
     "iopub.status.idle": "2025-04-15T10:46:01.338109Z",
     "shell.execute_reply": "2025-04-15T10:46:01.338109Z"
    }
   },
   "outputs": [
    {
     "name": "stdout",
     "output_type": "stream",
     "text": [
      "数据加载完成，共 605 行\n"
     ]
    },
    {
     "name": "stdout",
     "output_type": "stream",
     "text": [
      "使用CUDA加速\n"
     ]
    },
    {
     "name": "stdout",
     "output_type": "stream",
     "text": [
      "计算关键词嵌入向量...\n"
     ]
    },
    {
     "name": "stderr",
     "output_type": "stream",
     "text": [
      "\r",
      "  0%|          | 0/30 [00:00<?, ?it/s]"
     ]
    },
    {
     "name": "stderr",
     "output_type": "stream",
     "text": [
      "\r",
      "  3%|▎         | 1/30 [00:00<00:05,  5.50it/s]"
     ]
    },
    {
     "name": "stderr",
     "output_type": "stream",
     "text": [
      "\r",
      " 17%|█▋        | 5/30 [00:00<00:01, 18.89it/s]"
     ]
    },
    {
     "name": "stderr",
     "output_type": "stream",
     "text": [
      "\r",
      " 27%|██▋       | 8/30 [00:00<00:00, 22.43it/s]"
     ]
    },
    {
     "name": "stderr",
     "output_type": "stream",
     "text": [
      "\r",
      " 37%|███▋      | 11/30 [00:00<00:00, 23.24it/s]"
     ]
    },
    {
     "name": "stderr",
     "output_type": "stream",
     "text": [
      "\r",
      " 50%|█████     | 15/30 [00:00<00:00, 25.57it/s]"
     ]
    },
    {
     "name": "stderr",
     "output_type": "stream",
     "text": [
      "\r",
      " 60%|██████    | 18/30 [00:00<00:00, 25.31it/s]"
     ]
    },
    {
     "name": "stderr",
     "output_type": "stream",
     "text": [
      "\r",
      " 70%|███████   | 21/30 [00:00<00:00, 23.19it/s]"
     ]
    },
    {
     "name": "stderr",
     "output_type": "stream",
     "text": [
      "\r",
      " 80%|████████  | 24/30 [00:01<00:00, 20.59it/s]"
     ]
    },
    {
     "name": "stderr",
     "output_type": "stream",
     "text": [
      "\r",
      " 90%|█████████ | 27/30 [00:01<00:00, 19.71it/s]"
     ]
    },
    {
     "name": "stderr",
     "output_type": "stream",
     "text": [
      "\r",
      "100%|██████████| 30/30 [00:01<00:00, 19.16it/s]"
     ]
    },
    {
     "name": "stderr",
     "output_type": "stream",
     "text": [
      "\r",
      "100%|██████████| 30/30 [00:01<00:00, 20.57it/s]"
     ]
    },
    {
     "name": "stderr",
     "output_type": "stream",
     "text": [
      "\n"
     ]
    },
    {
     "name": "stdout",
     "output_type": "stream",
     "text": [
      "计算内容嵌入向量...\n"
     ]
    },
    {
     "name": "stderr",
     "output_type": "stream",
     "text": [
      "\r",
      "  0%|          | 0/605 [00:00<?, ?it/s]"
     ]
    },
    {
     "name": "stderr",
     "output_type": "stream",
     "text": [
      "\r",
      "  2%|▏         | 10/605 [00:00<00:06, 94.39it/s]"
     ]
    },
    {
     "name": "stderr",
     "output_type": "stream",
     "text": [
      "\r",
      "  3%|▎         | 21/605 [00:00<00:05, 99.76it/s]"
     ]
    },
    {
     "name": "stderr",
     "output_type": "stream",
     "text": [
      "\r",
      "  6%|▌         | 35/605 [00:00<00:04, 114.39it/s]"
     ]
    },
    {
     "name": "stderr",
     "output_type": "stream",
     "text": [
      "\r",
      "  8%|▊         | 47/605 [00:00<00:05, 107.84it/s]"
     ]
    },
    {
     "name": "stderr",
     "output_type": "stream",
     "text": [
      "\r",
      " 10%|▉         | 58/605 [00:00<00:05, 101.37it/s]"
     ]
    },
    {
     "name": "stderr",
     "output_type": "stream",
     "text": [
      "\r",
      " 13%|█▎        | 76/605 [00:00<00:04, 123.09it/s]"
     ]
    },
    {
     "name": "stderr",
     "output_type": "stream",
     "text": [
      "\r",
      " 15%|█▍        | 89/605 [00:00<00:04, 117.34it/s]"
     ]
    },
    {
     "name": "stderr",
     "output_type": "stream",
     "text": [
      "\r",
      " 17%|█▋        | 101/605 [00:00<00:04, 111.14it/s]"
     ]
    },
    {
     "name": "stderr",
     "output_type": "stream",
     "text": [
      "\r",
      " 19%|█▊        | 113/605 [00:01<00:04, 102.94it/s]"
     ]
    },
    {
     "name": "stderr",
     "output_type": "stream",
     "text": [
      "\r",
      " 20%|██        | 124/605 [00:01<00:04, 103.12it/s]"
     ]
    },
    {
     "name": "stderr",
     "output_type": "stream",
     "text": [
      "\r",
      " 22%|██▏       | 135/605 [00:01<00:04, 99.14it/s] "
     ]
    },
    {
     "name": "stderr",
     "output_type": "stream",
     "text": [
      "\r",
      " 24%|██▍       | 146/605 [00:01<00:04, 100.32it/s]"
     ]
    },
    {
     "name": "stderr",
     "output_type": "stream",
     "text": [
      "\r",
      " 26%|██▌       | 157/605 [00:01<00:04, 101.22it/s]"
     ]
    },
    {
     "name": "stderr",
     "output_type": "stream",
     "text": [
      "\r",
      " 28%|██▊       | 168/605 [00:01<00:04, 97.84it/s] "
     ]
    },
    {
     "name": "stderr",
     "output_type": "stream",
     "text": [
      "\r",
      " 30%|██▉       | 180/605 [00:01<00:04, 101.97it/s]"
     ]
    },
    {
     "name": "stderr",
     "output_type": "stream",
     "text": [
      "\r",
      " 32%|███▏      | 191/605 [00:01<00:04, 102.21it/s]"
     ]
    },
    {
     "name": "stderr",
     "output_type": "stream",
     "text": [
      "\r",
      " 33%|███▎      | 202/605 [00:01<00:04, 98.44it/s] "
     ]
    },
    {
     "name": "stderr",
     "output_type": "stream",
     "text": [
      "\r",
      " 35%|███▌      | 212/605 [00:02<00:04, 97.25it/s]"
     ]
    },
    {
     "name": "stderr",
     "output_type": "stream",
     "text": [
      "\r",
      " 37%|███▋      | 222/605 [00:02<00:03, 96.27it/s]"
     ]
    },
    {
     "name": "stderr",
     "output_type": "stream",
     "text": [
      "\r",
      " 39%|███▉      | 235/605 [00:02<00:03, 103.92it/s]"
     ]
    },
    {
     "name": "stderr",
     "output_type": "stream",
     "text": [
      "\r",
      " 41%|████      | 246/605 [00:02<00:03, 103.87it/s]"
     ]
    },
    {
     "name": "stderr",
     "output_type": "stream",
     "text": [
      "\r",
      " 42%|████▏     | 257/605 [00:02<00:03, 103.81it/s]"
     ]
    },
    {
     "name": "stderr",
     "output_type": "stream",
     "text": [
      "\r",
      " 45%|████▍     | 272/605 [00:02<00:02, 114.69it/s]"
     ]
    },
    {
     "name": "stderr",
     "output_type": "stream",
     "text": [
      "\r",
      " 47%|████▋     | 284/605 [00:02<00:02, 109.66it/s]"
     ]
    },
    {
     "name": "stderr",
     "output_type": "stream",
     "text": [
      "\r",
      " 49%|████▉     | 296/605 [00:02<00:02, 106.46it/s]"
     ]
    },
    {
     "name": "stderr",
     "output_type": "stream",
     "text": [
      "\r",
      " 51%|█████     | 307/605 [00:02<00:02, 101.79it/s]"
     ]
    },
    {
     "name": "stderr",
     "output_type": "stream",
     "text": [
      "\r",
      " 53%|█████▎    | 321/605 [00:03<00:02, 110.54it/s]"
     ]
    },
    {
     "name": "stderr",
     "output_type": "stream",
     "text": [
      "\r",
      " 55%|█████▌    | 333/605 [00:03<00:02, 103.03it/s]"
     ]
    },
    {
     "name": "stderr",
     "output_type": "stream",
     "text": [
      "\r",
      " 57%|█████▋    | 346/605 [00:03<00:02, 108.68it/s]"
     ]
    },
    {
     "name": "stderr",
     "output_type": "stream",
     "text": [
      "\r",
      " 59%|█████▉    | 358/605 [00:03<00:02, 105.97it/s]"
     ]
    },
    {
     "name": "stderr",
     "output_type": "stream",
     "text": [
      "\r",
      " 61%|██████    | 369/605 [00:03<00:02, 105.59it/s]"
     ]
    },
    {
     "name": "stderr",
     "output_type": "stream",
     "text": [
      "\r",
      " 63%|██████▎   | 380/605 [00:03<00:02, 105.31it/s]"
     ]
    },
    {
     "name": "stderr",
     "output_type": "stream",
     "text": [
      "\r",
      " 65%|██████▍   | 391/605 [00:03<00:02, 105.10it/s]"
     ]
    },
    {
     "name": "stderr",
     "output_type": "stream",
     "text": [
      "\r",
      " 66%|██████▋   | 402/605 [00:03<00:01, 104.95it/s]"
     ]
    },
    {
     "name": "stderr",
     "output_type": "stream",
     "text": [
      "\r",
      " 68%|██████▊   | 413/605 [00:03<00:01, 104.83it/s]"
     ]
    },
    {
     "name": "stderr",
     "output_type": "stream",
     "text": [
      "\r",
      " 70%|███████   | 424/605 [00:04<00:01, 104.70it/s]"
     ]
    },
    {
     "name": "stderr",
     "output_type": "stream",
     "text": [
      "\r",
      " 72%|███████▏  | 435/605 [00:04<00:01, 96.44it/s] "
     ]
    },
    {
     "name": "stderr",
     "output_type": "stream",
     "text": [
      "\r",
      " 74%|███████▍  | 448/605 [00:04<00:01, 104.09it/s]"
     ]
    },
    {
     "name": "stderr",
     "output_type": "stream",
     "text": [
      "\r",
      " 77%|███████▋  | 466/605 [00:04<00:01, 123.33it/s]"
     ]
    },
    {
     "name": "stderr",
     "output_type": "stream",
     "text": [
      "\r",
      " 79%|███████▉  | 479/605 [00:04<00:01, 123.43it/s]"
     ]
    },
    {
     "name": "stderr",
     "output_type": "stream",
     "text": [
      "\r",
      " 81%|████████▏ | 493/605 [00:04<00:00, 126.14it/s]"
     ]
    },
    {
     "name": "stderr",
     "output_type": "stream",
     "text": [
      "\r",
      " 84%|████████▎ | 506/605 [00:04<00:00, 115.65it/s]"
     ]
    },
    {
     "name": "stderr",
     "output_type": "stream",
     "text": [
      "\r",
      " 86%|████████▌ | 518/605 [00:04<00:00, 115.19it/s]"
     ]
    },
    {
     "name": "stderr",
     "output_type": "stream",
     "text": [
      "\r",
      " 88%|████████▊ | 530/605 [00:04<00:00, 106.23it/s]"
     ]
    },
    {
     "name": "stderr",
     "output_type": "stream",
     "text": [
      "\r",
      " 89%|████████▉ | 541/605 [00:05<00:00, 101.81it/s]"
     ]
    },
    {
     "name": "stderr",
     "output_type": "stream",
     "text": [
      "\r",
      " 91%|█████████ | 552/605 [00:05<00:00, 102.58it/s]"
     ]
    },
    {
     "name": "stderr",
     "output_type": "stream",
     "text": [
      "\r",
      " 94%|█████████▎| 566/605 [00:05<00:00, 111.04it/s]"
     ]
    },
    {
     "name": "stderr",
     "output_type": "stream",
     "text": [
      "\r",
      " 96%|█████████▌| 578/605 [00:05<00:00, 107.54it/s]"
     ]
    },
    {
     "name": "stderr",
     "output_type": "stream",
     "text": [
      "\r",
      " 97%|█████████▋| 589/605 [00:05<00:00, 106.64it/s]"
     ]
    },
    {
     "name": "stderr",
     "output_type": "stream",
     "text": [
      "\r",
      " 99%|█████████▉| 600/605 [00:05<00:00, 106.07it/s]"
     ]
    },
    {
     "name": "stderr",
     "output_type": "stream",
     "text": [
      "\r",
      "100%|██████████| 605/605 [00:05<00:00, 106.77it/s]"
     ]
    },
    {
     "name": "stderr",
     "output_type": "stream",
     "text": [
      "\n"
     ]
    },
    {
     "name": "stdout",
     "output_type": "stream",
     "text": [
      "计算语义匹配得分...\n"
     ]
    },
    {
     "name": "stderr",
     "output_type": "stream",
     "text": [
      "\r",
      "  0%|          | 0/30 [00:00<?, ?it/s]"
     ]
    },
    {
     "name": "stdout",
     "output_type": "stream",
     "text": [
      "处理变量: 安全性需求表达\n"
     ]
    },
    {
     "name": "stderr",
     "output_type": "stream",
     "text": [
      "\r",
      "  3%|▎         | 1/30 [00:01<00:39,  1.37s/it]"
     ]
    },
    {
     "name": "stdout",
     "output_type": "stream",
     "text": [
      "  变量 安全性需求表达 分布: 1=242个 (40.0%), 0=363个\n",
      "处理变量: 互动量-安全性相关\n",
      "  变量 互动量-安全性相关 分布: 1=0个 (0.0%), 0=605个\n",
      "处理变量: 空间效率表达\n"
     ]
    },
    {
     "name": "stderr",
     "output_type": "stream",
     "text": [
      "\r",
      " 10%|█         | 3/30 [00:02<00:21,  1.24it/s]"
     ]
    },
    {
     "name": "stdout",
     "output_type": "stream",
     "text": [
      "  变量 空间效率表达 分布: 1=242个 (40.0%), 0=363个\n",
      "处理变量: 分享行为-空间效率\n",
      "  变量 分享行为-空间效率 分布: 1=0个 (0.0%), 0=605个\n",
      "处理变量: 环保材质偏好\n"
     ]
    },
    {
     "name": "stderr",
     "output_type": "stream",
     "text": [
      "\r",
      " 17%|█▋        | 5/30 [00:03<00:17,  1.42it/s]"
     ]
    },
    {
     "name": "stdout",
     "output_type": "stream",
     "text": [
      "  变量 环保材质偏好 分布: 1=242个 (40.0%), 0=363个\n",
      "处理变量: 环保价值观表达\n"
     ]
    },
    {
     "name": "stderr",
     "output_type": "stream",
     "text": [
      "\r",
      " 20%|██        | 6/30 [00:04<00:18,  1.28it/s]"
     ]
    },
    {
     "name": "stdout",
     "output_type": "stream",
     "text": [
      "  变量 环保价值观表达 分布: 1=242个 (40.0%), 0=363个\n",
      "处理变量: 组装便捷性表达\n"
     ]
    },
    {
     "name": "stderr",
     "output_type": "stream",
     "text": [
      "\r",
      " 23%|██▎       | 7/30 [00:05<00:19,  1.16it/s]"
     ]
    },
    {
     "name": "stdout",
     "output_type": "stream",
     "text": [
      "  变量 组装便捷性表达 分布: 1=242个 (40.0%), 0=363个\n",
      "处理变量: 正面评价-组装体验\n",
      "  变量 正面评价-组装体验 分布: 1=0个 (0.0%), 0=605个\n",
      "处理变量: 设计美感表达\n"
     ]
    },
    {
     "name": "stderr",
     "output_type": "stream",
     "text": [
      "\r",
      " 30%|███       | 9/30 [00:07<00:17,  1.18it/s]"
     ]
    },
    {
     "name": "stdout",
     "output_type": "stream",
     "text": [
      "  变量 设计美感表达 分布: 1=242个 (40.0%), 0=363个\n",
      "处理变量: 分享行为-设计美感\n",
      "  变量 分享行为-设计美感 分布: 1=0个 (0.0%), 0=605个\n",
      "处理变量: 层高可调节性表达\n"
     ]
    },
    {
     "name": "stderr",
     "output_type": "stream",
     "text": [
      "\r",
      " 37%|███▋      | 11/30 [00:08<00:14,  1.33it/s]"
     ]
    },
    {
     "name": "stdout",
     "output_type": "stream",
     "text": [
      "  变量 层高可调节性表达 分布: 1=243个 (40.2%), 0=362个\n",
      "处理变量: 互动参与度-可调节性\n",
      "  变量 互动参与度-可调节性 分布: 1=0个 (0.0%), 0=605个\n",
      "处理变量: 防尘功能表达\n"
     ]
    },
    {
     "name": "stderr",
     "output_type": "stream",
     "text": [
      "\r",
      " 43%|████▎     | 13/30 [00:09<00:11,  1.42it/s]"
     ]
    },
    {
     "name": "stdout",
     "output_type": "stream",
     "text": [
      "  变量 防尘功能表达 分布: 1=242个 (40.0%), 0=363个\n",
      "处理变量: 互动量-有儿童家庭\n"
     ]
    },
    {
     "name": "stderr",
     "output_type": "stream",
     "text": [
      "\r",
      " 47%|████▋     | 14/30 [00:10<00:09,  1.65it/s]"
     ]
    },
    {
     "name": "stdout",
     "output_type": "stream",
     "text": [
      "  变量 互动量-有儿童家庭 分布: 1=242个 (40.0%), 0=363个\n",
      "处理变量: 价格表达\n"
     ]
    },
    {
     "name": "stderr",
     "output_type": "stream",
     "text": [
      "\r",
      " 50%|█████     | 15/30 [00:11<00:12,  1.20it/s]"
     ]
    },
    {
     "name": "stdout",
     "output_type": "stream",
     "text": [
      "  变量 价格表达 分布: 1=242个 (40.0%), 0=363个\n",
      "处理变量: 家庭收入水平表达\n"
     ]
    },
    {
     "name": "stderr",
     "output_type": "stream",
     "text": [
      "\r",
      " 53%|█████▎    | 16/30 [00:13<00:13,  1.07it/s]"
     ]
    },
    {
     "name": "stdout",
     "output_type": "stream",
     "text": [
      "  变量 家庭收入水平表达 分布: 1=243个 (40.2%), 0=362个\n",
      "处理变量: 多功能性表达\n"
     ]
    },
    {
     "name": "stderr",
     "output_type": "stream",
     "text": [
      "\r",
      " 57%|█████▋    | 17/30 [00:14<00:13,  1.01s/it]"
     ]
    },
    {
     "name": "stdout",
     "output_type": "stream",
     "text": [
      "  变量 多功能性表达 分布: 1=242个 (40.0%), 0=363个\n",
      "处理变量: 评论互动-多功能性\n",
      "  变量 评论互动-多功能性 分布: 1=0个 (0.0%), 0=605个\n",
      "处理变量: 便携性表达\n"
     ]
    },
    {
     "name": "stderr",
     "output_type": "stream",
     "text": [
      "\r",
      " 63%|██████▎   | 19/30 [00:15<00:08,  1.27it/s]"
     ]
    },
    {
     "name": "stdout",
     "output_type": "stream",
     "text": [
      "  变量 便携性表达 分布: 1=242个 (40.0%), 0=363个\n",
      "处理变量: 居住流动性表达\n"
     ]
    },
    {
     "name": "stderr",
     "output_type": "stream",
     "text": [
      "\r",
      " 67%|██████▋   | 20/30 [00:16<00:08,  1.19it/s]"
     ]
    },
    {
     "name": "stdout",
     "output_type": "stream",
     "text": [
      "  变量 居住流动性表达 分布: 1=243个 (40.2%), 0=362个\n",
      "处理变量: 承重能力表达\n"
     ]
    },
    {
     "name": "stderr",
     "output_type": "stream",
     "text": [
      "\r",
      " 70%|███████   | 21/30 [00:17<00:08,  1.06it/s]"
     ]
    },
    {
     "name": "stdout",
     "output_type": "stream",
     "text": [
      "  变量 承重能力表达 分布: 1=242个 (40.0%), 0=363个\n",
      "处理变量: 耐用性表达\n"
     ]
    },
    {
     "name": "stderr",
     "output_type": "stream",
     "text": [
      "\r",
      " 73%|███████▎  | 22/30 [00:18<00:08,  1.01s/it]"
     ]
    },
    {
     "name": "stdout",
     "output_type": "stream",
     "text": [
      "  变量 耐用性表达 分布: 1=242个 (40.0%), 0=363个\n",
      "处理变量: 长期满意度表达\n"
     ]
    },
    {
     "name": "stderr",
     "output_type": "stream",
     "text": [
      "\r",
      " 77%|███████▋  | 23/30 [00:19<00:07,  1.02s/it]"
     ]
    },
    {
     "name": "stdout",
     "output_type": "stream",
     "text": [
      "  变量 长期满意度表达 分布: 1=242个 (40.0%), 0=363个\n",
      "处理变量: 颜色选择表达\n"
     ]
    },
    {
     "name": "stderr",
     "output_type": "stream",
     "text": [
      "\r",
      " 80%|████████  | 24/30 [00:21<00:06,  1.13s/it]"
     ]
    },
    {
     "name": "stdout",
     "output_type": "stream",
     "text": [
      "  变量 颜色选择表达 分布: 1=245个 (40.5%), 0=360个\n",
      "处理变量: 季节适应性表达\n"
     ]
    },
    {
     "name": "stderr",
     "output_type": "stream",
     "text": [
      "\r",
      " 83%|████████▎ | 25/30 [00:21<00:05,  1.03s/it]"
     ]
    },
    {
     "name": "stdout",
     "output_type": "stream",
     "text": [
      "  变量 季节适应性表达 分布: 1=243个 (40.2%), 0=362个\n",
      "处理变量: 品牌声誉表达\n"
     ]
    },
    {
     "name": "stderr",
     "output_type": "stream",
     "text": [
      "\r",
      " 87%|████████▋ | 26/30 [00:23<00:04,  1.05s/it]"
     ]
    },
    {
     "name": "stdout",
     "output_type": "stream",
     "text": [
      "  变量 品牌声誉表达 分布: 1=242个 (40.0%), 0=363个\n",
      "处理变量: 消费者信任度表达\n"
     ]
    },
    {
     "name": "stderr",
     "output_type": "stream",
     "text": [
      "\r",
      " 90%|█████████ | 27/30 [00:24<00:03,  1.04s/it]"
     ]
    },
    {
     "name": "stdout",
     "output_type": "stream",
     "text": [
      "  变量 消费者信任度表达 分布: 1=242个 (40.0%), 0=363个\n",
      "处理变量: 创新功能表达\n"
     ]
    },
    {
     "name": "stderr",
     "output_type": "stream",
     "text": [
      "\r",
      " 93%|█████████▎| 28/30 [00:25<00:02,  1.09s/it]"
     ]
    },
    {
     "name": "stdout",
     "output_type": "stream",
     "text": [
      "  变量 创新功能表达 分布: 1=242个 (40.0%), 0=363个\n",
      "处理变量: 儿童友好设计表达\n"
     ]
    },
    {
     "name": "stderr",
     "output_type": "stream",
     "text": [
      "\r",
      " 97%|█████████▋| 29/30 [00:26<00:01,  1.07s/it]"
     ]
    },
    {
     "name": "stdout",
     "output_type": "stream",
     "text": [
      "  变量 儿童友好设计表达 分布: 1=245个 (40.5%), 0=360个\n",
      "处理变量: 组合灵活性表达\n"
     ]
    },
    {
     "name": "stderr",
     "output_type": "stream",
     "text": [
      "\r",
      "100%|██████████| 30/30 [00:27<00:00,  1.12s/it]"
     ]
    },
    {
     "name": "stderr",
     "output_type": "stream",
     "text": [
      "\r",
      "100%|██████████| 30/30 [00:27<00:00,  1.09it/s]"
     ]
    },
    {
     "name": "stdout",
     "output_type": "stream",
     "text": [
      "  变量 组合灵活性表达 分布: 1=244个 (40.3%), 0=361个\n",
      "\n",
      "变量得分统计:\n",
      "安全性需求表达:\n",
      "  值=0: 363个样本 (60.00%)\n",
      "  值=1: 242个样本 (40.00%)\n",
      "互动量-安全性相关:\n",
      "  值=0: 605个样本 (100.00%)\n",
      "空间效率表达:\n",
      "  值=0: 363个样本 (60.00%)\n",
      "  值=1: 242个样本 (40.00%)\n",
      "分享行为-空间效率:\n",
      "  值=0: 605个样本 (100.00%)\n",
      "环保材质偏好:\n",
      "  值=0: 363个样本 (60.00%)\n",
      "  值=1: 242个样本 (40.00%)\n",
      "环保价值观表达:\n",
      "  值=0: 363个样本 (60.00%)\n",
      "  值=1: 242个样本 (40.00%)\n",
      "组装便捷性表达:\n",
      "  值=0: 363个样本 (60.00%)\n",
      "  值=1: 242个样本 (40.00%)\n",
      "正面评价-组装体验:\n",
      "  值=0: 605个样本 (100.00%)\n",
      "设计美感表达:\n",
      "  值=0: 363个样本 (60.00%)\n",
      "  值=1: 242个样本 (40.00%)\n",
      "分享行为-设计美感:\n",
      "  值=0: 605个样本 (100.00%)\n",
      "层高可调节性表达:\n",
      "  值=0: 362个样本 (59.83%)\n",
      "  值=1: 243个样本 (40.17%)\n",
      "互动参与度-可调节性:\n",
      "  值=0: 605个样本 (100.00%)\n",
      "防尘功能表达:\n",
      "  值=0: 363个样本 (60.00%)\n",
      "  值=1: 242个样本 (40.00%)\n",
      "互动量-有儿童家庭:\n",
      "  值=0: 363个样本 (60.00%)\n",
      "  值=1: 242个样本 (40.00%)\n",
      "价格表达:\n",
      "  值=0: 363个样本 (60.00%)\n",
      "  值=1: 242个样本 (40.00%)\n",
      "家庭收入水平表达:\n",
      "  值=0: 362个样本 (59.83%)\n",
      "  值=1: 243个样本 (40.17%)\n",
      "多功能性表达:\n",
      "  值=0: 363个样本 (60.00%)\n",
      "  值=1: 242个样本 (40.00%)\n",
      "评论互动-多功能性:\n",
      "  值=0: 605个样本 (100.00%)\n",
      "便携性表达:\n",
      "  值=0: 363个样本 (60.00%)\n",
      "  值=1: 242个样本 (40.00%)\n",
      "居住流动性表达:\n",
      "  值=0: 362个样本 (59.83%)\n",
      "  值=1: 243个样本 (40.17%)\n",
      "承重能力表达:\n",
      "  值=0: 363个样本 (60.00%)\n",
      "  值=1: 242个样本 (40.00%)\n",
      "耐用性表达:\n",
      "  值=0: 363个样本 (60.00%)\n",
      "  值=1: 242个样本 (40.00%)\n",
      "长期满意度表达:\n",
      "  值=0: 363个样本 (60.00%)\n",
      "  值=1: 242个样本 (40.00%)\n",
      "颜色选择表达:\n",
      "  值=0: 360个样本 (59.50%)\n",
      "  值=1: 245个样本 (40.50%)\n",
      "季节适应性表达:\n",
      "  值=0: 362个样本 (59.83%)\n",
      "  值=1: 243个样本 (40.17%)\n",
      "品牌声誉表达:\n",
      "  值=0: 363个样本 (60.00%)\n",
      "  值=1: 242个样本 (40.00%)\n",
      "消费者信任度表达:\n",
      "  值=0: 363个样本 (60.00%)\n",
      "  值=1: 242个样本 (40.00%)\n",
      "创新功能表达:\n",
      "  值=0: 363个样本 (60.00%)\n",
      "  值=1: 242个样本 (40.00%)\n",
      "儿童友好设计表达:\n",
      "  值=0: 360个样本 (59.50%)\n",
      "  值=1: 245个样本 (40.50%)\n",
      "组合灵活性表达:\n",
      "  值=0: 361个样本 (59.67%)\n",
      "  值=1: 244个样本 (40.33%)\n"
     ]
    },
    {
     "name": "stderr",
     "output_type": "stream",
     "text": [
      "\n"
     ]
    },
    {
     "name": "stdout",
     "output_type": "stream",
     "text": [
      "\n",
      "处理完成！结果已保存至: 生成结果/social_media/数据变量语义匹配二元赋值结果.xlsx\n",
      "                    id  title  \\\n",
      "0  1909480340126580992    NaN   \n",
      "1  1909020699747886080    NaN   \n",
      "2  1908203431765881088    NaN   \n",
      "3  1908194727209385984    NaN   \n",
      "4  1908053656731087104    NaN   \n",
      "\n",
      "                                             content  url lang  \\\n",
      "0  Metal Shoe Rack\\nUpto 24% off\\nLink for you: h...  NaN   en   \n",
      "1  @emob_ @DamnNearWhite @Tr3sMilagros @MyFirstKi...  NaN   en   \n",
      "2  J.T. Foote Adjustable Shoe Trees - Plastic \\n🛠...  NaN   en   \n",
      "3  EXVITO Metal Shoe Rack for Home – Adjustable &...  NaN   en   \n",
      "4  Closet Shoe Organizer for 24 Pairs with Adjust...  NaN   en   \n",
      "\n",
      "                     publish_time publish_time_date publish_time_time  \\\n",
      "0  Tue Apr 08 05:36:04 +0000 2025        2025-04-08          05:36:04   \n",
      "1  Sun Apr 06 23:09:37 +0000 2025        2025-04-06          23:09:37   \n",
      "2  Fri Apr 04 17:02:05 +0000 2025        2025-04-04          17:02:05   \n",
      "3  Fri Apr 04 16:27:30 +0000 2025        2025-04-04          16:27:30   \n",
      "4  Fri Apr 04 07:06:56 +0000 2025        2025-04-04          07:06:56   \n",
      "\n",
      "   is_truncated  interaction_like_cnt  ...  承重能力表达  耐用性表达  长期满意度表达  颜色选择表达  \\\n",
      "0         False                     0  ...       1      1        1       0   \n",
      "1         False                     1  ...       1      0        1       0   \n",
      "2         False                     0  ...       1      0        0       0   \n",
      "3         False                     0  ...       0      1        1       0   \n",
      "4         False                     0  ...       0      0        0       0   \n",
      "\n",
      "   季节适应性表达  品牌声誉表达  消费者信任度表达  创新功能表达  儿童友好设计表达  组合灵活性表达  \n",
      "0        1       0         1       1         0        1  \n",
      "1        1       0         1       0         1        0  \n",
      "2        0       1         1       1         0        0  \n",
      "3        1       1         0       0         0        0  \n",
      "4        0       0         0       0         0        0  \n",
      "\n",
      "[5 rows x 67 columns]\n"
     ]
    }
   ],
   "source": [
    "# 加载关键词筛选后的数据\n",
    "data_file = os.path.join(folder_name, \"关键词筛选后的数据.xlsx\")\n",
    "\n",
    "# 检查文件是否存在\n",
    "if not os.path.exists(data_file):\n",
    "    print(f\"错误：找不到文件 {data_file}\")\n",
    "    print(\"请确保先运行数据筛选代码，生成关键词筛选后的数据文件\")\n",
    "    raise FileNotFoundError(f\"找不到文件: {data_file}\")\n",
    "\n",
    "df = pd.read_excel(data_file)\n",
    "print(f\"数据加载完成，共 {len(df)} 行\")\n",
    "\n",
    "# 定义文本预处理函数\n",
    "def preprocess_text(text):\n",
    "    \"\"\"对文本进行预处理\"\"\"\n",
    "    if not isinstance(text, str):\n",
    "        return \"\"\n",
    "    \n",
    "    # 转为小写\n",
    "    text = text.lower()\n",
    "    \n",
    "    # 规范化为 NFKD 形式，处理复合字符\n",
    "    text = unicodedata.normalize('NFKD', text)\n",
    "    \n",
    "    # 移除非ASCII字符（包括表情符号）\n",
    "    text = re.sub(r'[^\\x00-\\x7F]+', ' ', text)\n",
    "    \n",
    "    # 将多个空格替换为单个空格\n",
    "    text = re.sub(r'\\s+', ' ', text)\n",
    "    \n",
    "    return text.strip()\n",
    "\n",
    "# 初始化结果DataFrame\n",
    "result_df = df.copy()\n",
    "\n",
    "# 选择适合英文文本的预训练模型\n",
    "#model_name = \"sentence-transformers/all-MiniLM-L6-v2\"  # 小型语义模型，适合英文文本\n",
    "\n",
    "#model_name = \"sentence-transformers/stsb-roberta-large\"\n",
    "\n",
    "model_name = \"sentence-transformers/paraphrase-multilingual-mpnet-base-v2\"\n",
    "\n",
    "# 加载模型和分词器\n",
    "tokenizer = AutoTokenizer.from_pretrained(model_name)\n",
    "model = AutoModel.from_pretrained(model_name)\n",
    "\n",
    "# 自动检测并使用最佳的加速设备（CUDA、MPS或CPU）\n",
    "if torch.cuda.is_available():\n",
    "    device = torch.device(\"cuda\")\n",
    "    print(\"使用CUDA加速\")\n",
    "elif hasattr(torch.backends, 'mps') and torch.backends.mps.is_available():\n",
    "    device = torch.device(\"mps\")\n",
    "    print(\"使用MPS加速 (Apple Silicon)\")\n",
    "else:\n",
    "    device = torch.device(\"cpu\")\n",
    "    print(\"使用CPU (没有可用的硬件加速)\")\n",
    "\n",
    "model.to(device)\n",
    "\n",
    "# 获取文本嵌入向量的函数\n",
    "def get_embedding(text, tokenizer, model):\n",
    "    \"\"\"使用Transformer模型获取文本的嵌入向量\"\"\"\n",
    "    if not text:\n",
    "        return None\n",
    "    \n",
    "    # 预处理文本\n",
    "    text = preprocess_text(text)\n",
    "    if not text:\n",
    "        return None\n",
    "    \n",
    "    # 对文本进行编码\n",
    "    inputs = tokenizer(text, return_tensors=\"pt\", truncation=True, max_length=512, padding=True)\n",
    "    inputs = {k: v.to(device) for k, v in inputs.items()}\n",
    "    \n",
    "    # 获取模型输出\n",
    "    with torch.no_grad():\n",
    "        outputs = model(**inputs)\n",
    "    \n",
    "    # 使用最后一层的隐藏状态的平均值作为句子嵌入\n",
    "    embeddings = outputs.last_hidden_state.mean(dim=1)\n",
    "    \n",
    "    # 将结果转移到CPU以便进行NumPy转换\n",
    "    return embeddings.cpu().numpy()[0]\n",
    "\n",
    "# 计算相似度分数并二元化\n",
    "def semantic_match(text_embedding, keyword_embeddings, threshold=0.4):  # 降低默认阈值\n",
    "    \"\"\"计算文本与关键词的语义相似度，并基于阈值返回0或1\"\"\"\n",
    "    if text_embedding is None or not keyword_embeddings:\n",
    "        return 0\n",
    "    \n",
    "    # 计算文本与每个关键词之间的余弦相似度\n",
    "    similarities = [\n",
    "        cosine_similarity(text_embedding.reshape(1, -1), kw_embedding.reshape(1, -1))[0][0]\n",
    "        for kw_embedding in keyword_embeddings if kw_embedding is not None\n",
    "    ]\n",
    "    \n",
    "    # 如果没有有效的相似度分数，返回0\n",
    "    if not similarities:\n",
    "        return 0\n",
    "    \n",
    "    # 2. 使用多种匹配策略综合考虑\n",
    "    max_similarity = max(similarities)\n",
    "    avg_similarity = sum(similarities) / len(similarities)\n",
    "    \n",
    "    # 综合考虑最大相似度和平均相似度\n",
    "    combined_score = 0.7 * max_similarity + 0.3 * avg_similarity\n",
    "    \n",
    "    # 基于阈值二元化\n",
    "    return 1 if combined_score >= threshold else 0\n",
    "\n",
    "# 预处理关键词，获取每个变量关键词的嵌入向量\n",
    "print(\"计算关键词嵌入向量...\")\n",
    "keyword_embeddings = {}\n",
    "\n",
    "for var_name, keywords in tqdm(variable_keywords.items()):\n",
    "    keyword_embeddings[var_name] = []\n",
    "    for keyword in keywords:\n",
    "        embedding = get_embedding(keyword, tokenizer, model)\n",
    "        keyword_embeddings[var_name].append(embedding)\n",
    "\n",
    "# 预处理并获取所有内容的嵌入向量\n",
    "print(\"计算内容嵌入向量...\")\n",
    "content_embeddings = []\n",
    "\n",
    "if 'content' in df.columns:\n",
    "    for idx, row in tqdm(df.iterrows(), total=len(df)):\n",
    "        content = row['content']\n",
    "        embedding = get_embedding(content, tokenizer, model)\n",
    "        content_embeddings.append(embedding)\n",
    "else:\n",
    "    print(\"警告: 数据中没有'content'列\")\n",
    "    content_embeddings = [None] * len(df)\n",
    "\n",
    "# 为每个变量计算语义匹配得分\n",
    "print(\"计算语义匹配得分...\")\n",
    "for var_name in tqdm(variable_names):\n",
    "    print(f\"处理变量: {var_name}\")\n",
    "    \n",
    "    # 获取该变量的关键词嵌入向量\n",
    "    var_keyword_embeddings = keyword_embeddings.get(var_name, [])\n",
    "    \n",
    "    if not var_keyword_embeddings:\n",
    "        print(f\"警告: 变量 {var_name} 没有有效的关键词嵌入向量，跳过\")\n",
    "        result_df[var_name] = 0\n",
    "        continue\n",
    "    \n",
    "    # 计算每个内容与该变量关键词的语义匹配分数（不二元化）\n",
    "    raw_scores = []\n",
    "    for content_embedding in content_embeddings:\n",
    "        if content_embedding is None:\n",
    "            raw_scores.append(0)\n",
    "            continue\n",
    "            \n",
    "        # 计算相似度但不二元化\n",
    "        similarities = [\n",
    "            cosine_similarity(content_embedding.reshape(1, -1), kw_embedding.reshape(1, -1))[0][0]\n",
    "            for kw_embedding in var_keyword_embeddings if kw_embedding is not None\n",
    "        ]\n",
    "        \n",
    "        if not similarities:\n",
    "            raw_scores.append(0)\n",
    "            continue\n",
    "            \n",
    "        # 计算组合分数\n",
    "        max_sim = max(similarities)\n",
    "        avg_sim = sum(similarities) / len(similarities)\n",
    "        combined_score = 0.7 * max_sim + 0.3 * avg_sim\n",
    "        raw_scores.append(combined_score)\n",
    "    \n",
    "    # 4. 使用分位数设置动态阈值，确保有合理的0/1分布\n",
    "    # 根据数据特性调整百分位数，这里选择前75%作为1\n",
    "    if len(set(raw_scores)) > 1:  # 确保有足够的变化\n",
    "        threshold = np.percentile(raw_scores, 60)  # 取第70百分位作为阈值\n",
    "        binary_scores = [1 if score >= threshold else 0 for score in raw_scores]\n",
    "    else:\n",
    "        # 如果所有分数都相同，则全部标记为0\n",
    "        binary_scores = [0] * len(raw_scores)\n",
    "        \n",
    "    # 保存到结果DataFrame\n",
    "    result_df[var_name] = binary_scores\n",
    "    \n",
    "    # 5. 输出每个变量的分布情况\n",
    "    ones_count = sum(binary_scores)\n",
    "    zeros_count = len(binary_scores) - ones_count\n",
    "    print(f\"  变量 {var_name} 分布: 1={ones_count}个 ({ones_count/len(binary_scores)*100:.1f}%), 0={zeros_count}个\")\n",
    "\n",
    "# 显示结果统计\n",
    "print(\"\\n变量得分统计:\")\n",
    "for var_name in variable_names:\n",
    "    if var_name in result_df.columns:\n",
    "        # 计算二元变量的频率和百分比\n",
    "        value_counts = result_df[var_name].value_counts()\n",
    "        total = len(result_df)\n",
    "        \n",
    "        print(f\"{var_name}:\")\n",
    "        for value, count in value_counts.items():\n",
    "            percent = count / total * 100\n",
    "            print(f\"  值={value}: {count}个样本 ({percent:.2f}%)\")\n",
    "\n",
    "# 修改输出文件路径，将所有输出保存到该文件夹\n",
    "output_file = os.path.join(folder_name, \"数据变量语义匹配二元赋值结果.xlsx\")\n",
    "result_df.to_excel(output_file, index=False)\n",
    "print(f\"\\n处理完成！结果已保存至: {output_file}\")\n",
    "\n",
    "\n",
    "# 展示结果DataFrame的前几行\n",
    "print(result_df.head())"
   ]
  },
  {
   "cell_type": "code",
   "execution_count": 8,
   "id": "27cae2de-1f41-4d15-b653-40c3e7e2c79f",
   "metadata": {
    "execution": {
     "iopub.execute_input": "2025-04-15T10:46:01.338109Z",
     "iopub.status.busy": "2025-04-15T10:46:01.338109Z",
     "iopub.status.idle": "2025-04-15T10:46:01.353979Z",
     "shell.execute_reply": "2025-04-15T10:46:01.353206Z"
    }
   },
   "outputs": [
    {
     "name": "stdout",
     "output_type": "stream",
     "text": [
      "每列的NaN值数量:\n",
      "id            0\n",
      "title       605\n",
      "content       0\n",
      "url         605\n",
      "lang          0\n",
      "           ... \n",
      "品牌声誉表达        0\n",
      "消费者信任度表达      0\n",
      "创新功能表达        0\n",
      "儿童友好设计表达      0\n",
      "组合灵活性表达       0\n",
      "Length: 67, dtype: int64\n",
      "警告: 数据中存在NaN值\n",
      "\n",
      "每个变量列的值分布:\n",
      "\n",
      "安全性需求表达:\n",
      "安全性需求表达\n",
      "0    363\n",
      "1    242\n",
      "Name: count, dtype: int64\n",
      "\n",
      "互动量-安全性相关:\n",
      "互动量-安全性相关\n",
      "0    605\n",
      "Name: count, dtype: int64\n",
      "⚠️ 警告: 变量 互动量-安全性相关 可能未成功赋值，全部为0\n",
      "\n",
      "空间效率表达:\n",
      "空间效率表达\n",
      "0    363\n",
      "1    242\n",
      "Name: count, dtype: int64\n",
      "\n",
      "分享行为-空间效率:\n",
      "分享行为-空间效率\n",
      "0    605\n",
      "Name: count, dtype: int64\n",
      "⚠️ 警告: 变量 分享行为-空间效率 可能未成功赋值，全部为0\n",
      "\n",
      "环保材质偏好:\n",
      "环保材质偏好\n",
      "0    363\n",
      "1    242\n",
      "Name: count, dtype: int64\n",
      "\n",
      "环保价值观表达:\n",
      "环保价值观表达\n",
      "0    363\n",
      "1    242\n",
      "Name: count, dtype: int64\n",
      "\n",
      "组装便捷性表达:\n",
      "组装便捷性表达\n",
      "0    363\n",
      "1    242\n",
      "Name: count, dtype: int64\n",
      "\n",
      "正面评价-组装体验:\n",
      "正面评价-组装体验\n",
      "0    605\n",
      "Name: count, dtype: int64\n",
      "⚠️ 警告: 变量 正面评价-组装体验 可能未成功赋值，全部为0\n",
      "\n",
      "设计美感表达:\n",
      "设计美感表达\n",
      "0    363\n",
      "1    242\n",
      "Name: count, dtype: int64\n",
      "\n",
      "分享行为-设计美感:\n",
      "分享行为-设计美感\n",
      "0    605\n",
      "Name: count, dtype: int64\n",
      "⚠️ 警告: 变量 分享行为-设计美感 可能未成功赋值，全部为0\n",
      "\n",
      "层高可调节性表达:\n",
      "层高可调节性表达\n",
      "0    362\n",
      "1    243\n",
      "Name: count, dtype: int64\n",
      "\n",
      "互动参与度-可调节性:\n",
      "互动参与度-可调节性\n",
      "0    605\n",
      "Name: count, dtype: int64\n",
      "⚠️ 警告: 变量 互动参与度-可调节性 可能未成功赋值，全部为0\n",
      "\n",
      "防尘功能表达:\n",
      "防尘功能表达\n",
      "0    363\n",
      "1    242\n",
      "Name: count, dtype: int64\n",
      "\n",
      "互动量-有儿童家庭:\n",
      "互动量-有儿童家庭\n",
      "0    363\n",
      "1    242\n",
      "Name: count, dtype: int64\n",
      "\n",
      "价格表达:\n",
      "价格表达\n",
      "0    363\n",
      "1    242\n",
      "Name: count, dtype: int64\n",
      "\n",
      "家庭收入水平表达:\n",
      "家庭收入水平表达\n",
      "0    362\n",
      "1    243\n",
      "Name: count, dtype: int64\n",
      "\n",
      "多功能性表达:\n",
      "多功能性表达\n",
      "0    363\n",
      "1    242\n",
      "Name: count, dtype: int64\n",
      "\n",
      "评论互动-多功能性:\n",
      "评论互动-多功能性\n",
      "0    605\n",
      "Name: count, dtype: int64\n",
      "⚠️ 警告: 变量 评论互动-多功能性 可能未成功赋值，全部为0\n",
      "\n",
      "便携性表达:\n",
      "便携性表达\n",
      "0    363\n",
      "1    242\n",
      "Name: count, dtype: int64\n",
      "\n",
      "居住流动性表达:\n",
      "居住流动性表达\n",
      "0    362\n",
      "1    243\n",
      "Name: count, dtype: int64\n",
      "\n",
      "承重能力表达:\n",
      "承重能力表达\n",
      "0    363\n",
      "1    242\n",
      "Name: count, dtype: int64\n",
      "\n",
      "耐用性表达:\n",
      "耐用性表达\n",
      "0    363\n",
      "1    242\n",
      "Name: count, dtype: int64\n",
      "\n",
      "长期满意度表达:\n",
      "长期满意度表达\n",
      "0    363\n",
      "1    242\n",
      "Name: count, dtype: int64\n",
      "\n",
      "颜色选择表达:\n",
      "颜色选择表达\n",
      "0    360\n",
      "1    245\n",
      "Name: count, dtype: int64\n",
      "\n",
      "季节适应性表达:\n",
      "季节适应性表达\n",
      "0    362\n",
      "1    243\n",
      "Name: count, dtype: int64\n",
      "\n",
      "品牌声誉表达:\n",
      "品牌声誉表达\n",
      "0    363\n",
      "1    242\n",
      "Name: count, dtype: int64\n",
      "\n",
      "消费者信任度表达:\n",
      "消费者信任度表达\n",
      "0    363\n",
      "1    242\n",
      "Name: count, dtype: int64\n",
      "\n",
      "创新功能表达:\n",
      "创新功能表达\n",
      "0    363\n",
      "1    242\n",
      "Name: count, dtype: int64\n",
      "\n",
      "儿童友好设计表达:\n",
      "儿童友好设计表达\n",
      "0    360\n",
      "1    245\n",
      "Name: count, dtype: int64\n",
      "\n",
      "组合灵活性表达:\n",
      "组合灵活性表达\n",
      "0    361\n",
      "1    244\n",
      "Name: count, dtype: int64\n",
      "\n",
      "各列的数据类型:\n",
      "id            int64\n",
      "title       float64\n",
      "content      object\n",
      "url         float64\n",
      "lang         object\n",
      "             ...   \n",
      "品牌声誉表达        int64\n",
      "消费者信任度表达      int64\n",
      "创新功能表达        int64\n",
      "儿童友好设计表达      int64\n",
      "组合灵活性表达       int64\n",
      "Length: 67, dtype: object\n"
     ]
    }
   ],
   "source": [
    "# 方法1: 检查是否存在NaN值\n",
    "null_counts = result_df.isnull().sum()\n",
    "print(\"每列的NaN值数量:\")\n",
    "print(null_counts)\n",
    "\n",
    "if null_counts.sum() > 0:\n",
    "    print(\"警告: 数据中存在NaN值\")\n",
    "else:\n",
    "    print(\"所有单元格都有值\")\n",
    "\n",
    "# 方法2: 检查所有变量列的唯一值分布\n",
    "print(\"\\n每个变量列的值分布:\")\n",
    "for var_name in variable_names:\n",
    "    if var_name in result_df.columns:\n",
    "        value_counts = result_df[var_name].value_counts(dropna=False)\n",
    "        print(f\"\\n{var_name}:\")\n",
    "        print(value_counts)\n",
    "        \n",
    "        # 检查是否只有0值(可能表示赋值失败)\n",
    "        if value_counts.get(0, 0) == len(result_df) and 1 not in value_counts:\n",
    "            print(f\"⚠️ 警告: 变量 {var_name} 可能未成功赋值，全部为0\")\n",
    "\n",
    "# 方法3: 检查数据类型，确保所有变量列都是数值类型\n",
    "print(\"\\n各列的数据类型:\")\n",
    "print(result_df.dtypes)"
   ]
  },
  {
   "cell_type": "markdown",
   "id": "018f2c4d-0c41-433c-bf7b-a6dfd107fc04",
   "metadata": {},
   "source": [
    "## 输出变量为txt文件"
   ]
  },
  {
   "cell_type": "code",
   "execution_count": 9,
   "id": "59eab698-1234-4904-9e48-712174db0313",
   "metadata": {
    "execution": {
     "iopub.execute_input": "2025-04-15T10:46:01.353979Z",
     "iopub.status.busy": "2025-04-15T10:46:01.353979Z",
     "iopub.status.idle": "2025-04-15T10:46:01.459553Z",
     "shell.execute_reply": "2025-04-15T10:46:01.459553Z"
    }
   },
   "outputs": [
    {
     "name": "stdout",
     "output_type": "stream",
     "text": [
      "DataFrame的列名:\n",
      "['序号', '变量名称', '数据字段描述', '关键词列表', '数据平台（待定）', '理论定义', '变量所在假设', '调节/背景因素', '变量类型', '消费者旅程阶段']\n",
      "\n",
      "找到 18 个IV变量:\n",
      "- 安全性需求表达\n",
      "- 空间效率表达\n",
      "- 环保材质偏好\n",
      "- 组装便捷性表达\n",
      "- 设计美感表达\n",
      "- 层高可调节性表达\n",
      "- 防尘功能表达\n",
      "- 价格表达\n",
      "- 多功能性表达\n",
      "- 便携性表达\n",
      "- 承重能力表达\n",
      "- 耐用性表达\n",
      "- 颜色选择表达\n",
      "- 季节适应性表达\n",
      "- 品牌声誉表达\n",
      "- 创新功能表达\n",
      "- 儿童友好设计表达\n",
      "- 组合灵活性表达\n",
      "\n",
      "找到 9 个DV变量:\n",
      "- 互动量-安全性相关\n",
      "- 分享行为-空间效率\n",
      "- 正面评价-组装体验\n",
      "- 分享行为-设计美感\n",
      "- 互动参与度-可调节性\n",
      "- 互动量-有儿童家庭\n",
      "- 评论互动-多功能性\n",
      "- 长期满意度表达\n",
      "- 消费者信任度表达\n",
      "\n",
      "找到 0 个Moderator变量:\n",
      "\n",
      "已成功保存以下文件:\n",
      "- 生成结果/social_media/IV.txt (18 个变量)\n",
      "- 生成结果/social_media/DV.txt (9 个变量)\n",
      "- 生成结果/social_media/Moderator.txt (0 个变量)\n"
     ]
    }
   ],
   "source": [
    "# 从Markdown表格中提取IV、DV和Moderator变量\n",
    "import pandas as pd\n",
    "import os\n",
    "\n",
    "\n",
    "# 假设variables_df已经通过之前的代码从Markdown文件中提取\n",
    "# 如果没有，可以重新运行提取代码\n",
    "if 'variables_df' not in locals():\n",
    "    # 重新从Markdown文件中提取表格\n",
    "    markdown_file = \"理论假设.md\"\n",
    "    \n",
    "    # 检查文件是否存在\n",
    "    if os.path.exists(markdown_file):\n",
    "        with open(markdown_file, 'r', encoding='utf-8') as file:\n",
    "            content = file.read()\n",
    "        \n",
    "        # 按行分割内容\n",
    "        lines = content.strip().split('\\n')\n",
    "        \n",
    "        # 找到表格行（以|开始和结束的行）\n",
    "        table_lines = [line for line in lines if line.strip().startswith('|') and line.strip().endswith('|')]\n",
    "        \n",
    "        if not table_lines:\n",
    "            raise ValueError(\"未在Markdown文件中找到表格内容\")\n",
    "        \n",
    "        # 解析表格内容\n",
    "        rows = []\n",
    "        for line in table_lines:\n",
    "            # 分割行并移除前后的|\n",
    "            cells = line.strip().split('|')[1:-1]\n",
    "            # 清理每个单元格内容\n",
    "            cells = [cell.strip() for cell in cells]\n",
    "            rows.append(cells)\n",
    "        \n",
    "        # 第一行是表头\n",
    "        headers = rows[0]\n",
    "        \n",
    "        # 跳过表头和分隔行(通常是第二行，包含 ---|--- 类似内容)\n",
    "        data_rows = rows[2:] if len(rows) > 2 else []\n",
    "        \n",
    "        # 创建DataFrame\n",
    "        variables_df = pd.DataFrame(data_rows, columns=headers)\n",
    "        \n",
    "        print(f\"已成功从Markdown提取表格，包含{len(variables_df)}行和{len(variables_df.columns)}列\")\n",
    "    else:\n",
    "        print(f\"文件 {markdown_file} 不存在，请提供正确的文件路径\")\n",
    "        raise FileNotFoundError(f\"找不到文件: {markdown_file}\")\n",
    "\n",
    "# 查看DataFrame的列名，确保有'变量名称'和'变量类型'列\n",
    "print(\"DataFrame的列名:\")\n",
    "print(variables_df.columns.tolist())\n",
    "\n",
    "# 检查'变量类型'列是否存在\n",
    "if '变量类型' not in variables_df.columns:\n",
    "    # 尝试查找包含'类型'的列\n",
    "    type_columns = [col for col in variables_df.columns if '类型' in col]\n",
    "    if type_columns:\n",
    "        var_type_col = type_columns[0]\n",
    "        print(f\"使用列 '{var_type_col}' 作为变量类型列\")\n",
    "    else:\n",
    "        print(\"警告: DataFrame中没有找到'变量类型'或包含'类型'的列\")\n",
    "        raise ValueError(\"无法找到变量类型列\")\n",
    "else:\n",
    "    var_type_col = '变量类型'\n",
    "\n",
    "# 检查'变量名称'列是否存在\n",
    "if '变量名称' not in variables_df.columns:\n",
    "    # 尝试查找包含'名称'的列\n",
    "    name_columns = [col for col in variables_df.columns if '名称' in col]\n",
    "    if name_columns:\n",
    "        var_name_col = name_columns[0]\n",
    "        print(f\"使用列 '{var_name_col}' 作为变量名称列\")\n",
    "    else:\n",
    "        print(\"警告: DataFrame中没有找到'变量名称'或包含'名称'的列\")\n",
    "        raise ValueError(\"无法找到变量名称列\")\n",
    "else:\n",
    "    var_name_col = '变量名称'\n",
    "\n",
    "# 提取IV、DV和Moderator变量\n",
    "iv_variables = variables_df[variables_df[var_type_col] == 'IV'][var_name_col].tolist()\n",
    "dv_variables = variables_df[variables_df[var_type_col] == 'DV'][var_name_col].tolist()\n",
    "moderator_variables = variables_df[variables_df[var_type_col] == 'Moderator'][var_name_col].tolist()\n",
    "\n",
    "# 显示提取的变量\n",
    "print(f\"\\n找到 {len(iv_variables)} 个IV变量:\")\n",
    "for var in iv_variables:\n",
    "    print(f\"- {var}\")\n",
    "\n",
    "print(f\"\\n找到 {len(dv_variables)} 个DV变量:\")\n",
    "for var in dv_variables:\n",
    "    print(f\"- {var}\")\n",
    "\n",
    "print(f\"\\n找到 {len(moderator_variables)} 个Moderator变量:\")\n",
    "for var in moderator_variables:\n",
    "    print(f\"- {var}\")\n",
    "\n",
    "# 修改IV、DV和Moderator文本文件的保存路径\n",
    "iv_file = os.path.join(folder_name, 'IV.txt')\n",
    "dv_file = os.path.join(folder_name, 'DV.txt')\n",
    "moderator_file = os.path.join(folder_name, 'Moderator.txt')\n",
    "\n",
    "# 保存到文本文件\n",
    "# IV.txt\n",
    "with open(iv_file, 'w', encoding='utf-8') as f:\n",
    "    for var in iv_variables:\n",
    "        f.write(f\"{var}\\n\")\n",
    "\n",
    "# DV.txt\n",
    "with open(dv_file, 'w', encoding='utf-8') as f:\n",
    "    for var in dv_variables:\n",
    "        f.write(f\"{var}\\n\")\n",
    "\n",
    "# Moderator.txt\n",
    "with open(moderator_file, 'w', encoding='utf-8') as f:\n",
    "    for var in moderator_variables:\n",
    "        f.write(f\"{var}\\n\")\n",
    "\n",
    "print(\"\\n已成功保存以下文件:\")\n",
    "print(f\"- {iv_file} ({len(iv_variables)} 个变量)\")\n",
    "print(f\"- {dv_file} ({len(dv_variables)} 个变量)\")\n",
    "print(f\"- {moderator_file} ({len(moderator_variables)} 个变量)\")"
   ]
  },
  {
   "cell_type": "code",
   "execution_count": null,
   "id": "1cb5d3ca-c3ec-4693-beac-f43c1c0a76b6",
   "metadata": {},
   "outputs": [],
   "source": []
  },
  {
   "cell_type": "code",
   "execution_count": null,
   "id": "61b20289-2b23-4a47-991d-30e2df2da6d9",
   "metadata": {},
   "outputs": [],
   "source": []
  }
 ],
 "metadata": {
  "kernelspec": {
   "display_name": "Lynx",
   "language": "python",
   "name": "lynx"
  },
  "language_info": {
   "codemirror_mode": {
    "name": "ipython",
    "version": 3
   },
   "file_extension": ".py",
   "mimetype": "text/x-python",
   "name": "python",
   "nbconvert_exporter": "python",
   "pygments_lexer": "ipython3",
   "version": "3.10.16"
  }
 },
 "nbformat": 4,
 "nbformat_minor": 5
}
