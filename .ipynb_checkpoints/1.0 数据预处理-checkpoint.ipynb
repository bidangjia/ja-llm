{
 "cells": [
  {
   "cell_type": "code",
   "execution_count": 3,
   "id": "80cf88e3-c7cd-4d13-9ce0-97ad4178c86a",
   "metadata": {},
   "outputs": [],
   "source": [
    "import pandas as pd\n",
    "import os\n",
    "import glob\n"
   ]
  },
  {
   "cell_type": "code",
   "execution_count": 4,
   "id": "37c4613f-2c11-4dcf-988e-179a8b80e618",
   "metadata": {},
   "outputs": [],
   "source": [
    "# # 设置文件路径\n",
    "# data_folder = \"./Data\"\n",
    "# output_file = os.path.join(data_folder, \"产品类别.txt\")\n",
    "\n",
    "# # 查找Data文件夹中以_processed.xlsx结尾的Excel文件\n",
    "# excel_files = [f for f in os.listdir(data_folder) if f.endswith('_processed.xlsx')]\n",
    "\n",
    "# if not excel_files:\n",
    "#     print(\"在Data文件夹中未找到以_processed.xlsx结尾的Excel文件\")\n",
    "# else:\n",
    "#     # 如果有多个文件，打印找到的所有文件\n",
    "#     if len(excel_files) > 1:\n",
    "#         print(f\"找到以下{len(excel_files)}个_processed.xlsx文件:\")\n",
    "#         for i, file in enumerate(excel_files):\n",
    "#             print(f\"{i+1}. {file}\")\n",
    "    \n",
    "#     # 使用第一个找到的Excel文件\n",
    "#     excel_file = os.path.join(data_folder, excel_files[0])\n",
    "#     print(f\"正在处理文件: {excel_file}\")\n",
    "    \n",
    "#     try:\n",
    "#         # 读取Excel文件\n",
    "#         df = pd.read_excel(excel_file)\n",
    "        \n",
    "#         # 检查是否存在\"subNodeLabel\"列\n",
    "#         if \"subNodeLabel\" not in df.columns:\n",
    "#             print(\"Excel文件中未找到'subNodeLabel'列\")\n",
    "#         else:\n",
    "#             # 提取subNodeLabel列并去重\n",
    "#             unique_labels = df[\"subNodeLabel\"].dropna().unique().tolist()\n",
    "            \n",
    "#             # 创建文件夹（如果不存在）\n",
    "#             os.makedirs(data_folder, exist_ok=True)\n",
    "            \n",
    "#             # 写入文本文件\n",
    "#             with open(output_file, 'w', encoding='utf-8') as f:\n",
    "#                 for label in unique_labels:\n",
    "#                     f.write(f\"{label}\\n\")\n",
    "            \n",
    "#             print(f\"已成功提取{len(unique_labels)}个唯一的subNodeLabel值，并保存到{output_file}\")\n",
    "#     except Exception as e:\n",
    "#         print(f\"处理Excel文件时出错: {e}\")\n"
   ]
  },
  {
   "cell_type": "code",
   "execution_count": 5,
   "id": "ce6a5728-1952-4cf7-9411-ec8f25c2e436",
   "metadata": {},
   "outputs": [
    {
     "name": "stdout",
     "output_type": "stream",
     "text": [
      "正在处理VOC数据文件: ./Data\\致欧-2025-01-10之后VOC数据.xlsx\n",
      "已将'星级'列重命名为'Rating'\n",
      "已将'内容'列重命名为'content'\n",
      "已成功保存修改后的文件，只保留第一个sheet: 评论\n"
     ]
    }
   ],
   "source": [
    "voc_files = glob.glob(os.path.join(data_folder, \"*VOC数据.xlsx\"))\n",
    "\n",
    "if not voc_files:\n",
    "    print(\"在Data文件夹中未找到以'VOC数据.xlsx'结尾的文件\")\n",
    "else:\n",
    "    # 如果有多个文件，打印找到的所有文件\n",
    "    if len(voc_files) > 1:\n",
    "        print(f\"找到以下{len(voc_files)}个VOC数据.xlsx文件:\")\n",
    "        for i, file in enumerate(voc_files):\n",
    "            print(f\"{i+1}. {file}\")\n",
    "    \n",
    "    for voc_file in voc_files:\n",
    "        print(f\"正在处理VOC数据文件: {voc_file}\")\n",
    "        \n",
    "        try:\n",
    "            # 读取Excel文件的所有sheet\n",
    "            excel = pd.ExcelFile(voc_file)\n",
    "            sheet_names = excel.sheet_names\n",
    "            \n",
    "            # 只保留第一个sheet\n",
    "            if sheet_names:\n",
    "                first_sheet = sheet_names[0]\n",
    "                df = pd.read_excel(voc_file, sheet_name=first_sheet)\n",
    "                \n",
    "                # 检查并重命名列\n",
    "                if \"星级\" in df.columns:\n",
    "                    df.rename(columns={\"星级\": \"Rating\"}, inplace=True)\n",
    "                    print(f\"已将'星级'列重命名为'Rating'\")\n",
    "                else:\n",
    "                    print(f\"未找到'星级'列\")\n",
    "                \n",
    "                if \"内容\" in df.columns:\n",
    "                    df.rename(columns={\"内容\": \"content\"}, inplace=True)\n",
    "                    print(f\"已将'内容'列重命名为'content'\")\n",
    "                else:\n",
    "                    print(f\"未找到'内容'列\")\n",
    "                \n",
    "                # 保存修改后的文件\n",
    "                with pd.ExcelWriter(voc_file, engine='openpyxl') as writer:\n",
    "                    df.to_excel(writer, sheet_name=first_sheet, index=False)\n",
    "                    print(f\"已成功保存修改后的文件，只保留第一个sheet: {first_sheet}\")\n",
    "            else:\n",
    "                print(f\"Excel文件中没有sheet\")\n",
    "                \n",
    "        except Exception as e:\n",
    "            print(f\"处理VOC数据文件时出错: {e}\")"
   ]
  },
  {
   "cell_type": "code",
   "execution_count": null,
   "id": "7ebdef1e-c690-4375-bad7-21f73717d093",
   "metadata": {},
   "outputs": [],
   "source": []
  }
 ],
 "metadata": {
  "kernelspec": {
   "display_name": "Lynx",
   "language": "python",
   "name": "lynx"
  },
  "language_info": {
   "codemirror_mode": {
    "name": "ipython",
    "version": 3
   },
   "file_extension": ".py",
   "mimetype": "text/x-python",
   "name": "python",
   "nbconvert_exporter": "python",
   "pygments_lexer": "ipython3",
   "version": "3.10.16"
  }
 },
 "nbformat": 4,
 "nbformat_minor": 5
}
